{
 "cells": [
  {
   "cell_type": "code",
   "execution_count": 1,
   "metadata": {},
   "outputs": [],
   "source": [
    "import numpy  as np"
   ]
  },
  {
   "cell_type": "markdown",
   "metadata": {},
   "source": [
    "#Converting a List to Array"
   ]
  },
  {
   "cell_type": "code",
   "execution_count": 6,
   "metadata": {},
   "outputs": [
    {
     "name": "stdout",
     "output_type": "stream",
     "text": [
      "[  1   2   3   4   5   6   4 566  54]\n",
      "<class 'numpy.ndarray'>\n"
     ]
    }
   ],
   "source": [
    "lst=[1,2,3,4,5,6,4,566,54]\n",
    "np_array1=np.array(lst,dtype=\"int64\",ndmin=1)\n",
    "print(np_array1)\n",
    "print(type(np_array1))"
   ]
  },
  {
   "cell_type": "code",
   "execution_count": 9,
   "metadata": {},
   "outputs": [
    {
     "data": {
      "text/plain": [
       "array([[[  1,   2,   3,   4,   5,   6,   4, 566,  54]]])"
      ]
     },
     "execution_count": 9,
     "metadata": {},
     "output_type": "execute_result"
    }
   ],
   "source": [
    "np_array2=np.array(lst,ndmin=3)\n",
    "np_array2"
   ]
  },
  {
   "cell_type": "code",
   "execution_count": 11,
   "metadata": {},
   "outputs": [
    {
     "data": {
      "text/plain": [
       "array([[   2,    3,    4,    5,   32,  344, 3232,    3]])"
      ]
     },
     "execution_count": 11,
     "metadata": {},
     "output_type": "execute_result"
    }
   ],
   "source": [
    "arr3=np.array([2,3,4,5,32,344,3232,3],ndmin=2)\n",
    "arr3"
   ]
  },
  {
   "cell_type": "markdown",
   "metadata": {},
   "source": [
    "#Arange Function"
   ]
  },
  {
   "cell_type": "code",
   "execution_count": 16,
   "metadata": {},
   "outputs": [
    {
     "data": {
      "text/plain": [
       "array([ 1,  2,  3,  4,  5,  6,  7,  8,  9, 10])"
      ]
     },
     "execution_count": 16,
     "metadata": {},
     "output_type": "execute_result"
    }
   ],
   "source": [
    "d1=np.arange(1,11)\n",
    "d1"
   ]
  },
  {
   "cell_type": "markdown",
   "metadata": {},
   "source": [
    "#Multi-Dimensional Array"
   ]
  },
  {
   "cell_type": "code",
   "execution_count": 23,
   "metadata": {},
   "outputs": [
    {
     "name": "stdout",
     "output_type": "stream",
     "text": [
      "[[ 1  2  3  4]\n",
      " [ 5  6  7  8]\n",
      " [ 9 10 11 12]]\n",
      "(3, 4)\n"
     ]
    }
   ],
   "source": [
    "lst2=[[1,2,3,4],[5,6,7,8],[9,10,11,12]]\n",
    "arr2=np.array(lst2)\n",
    "print(arr2)\n",
    "print(arr2.shape)"
   ]
  },
  {
   "cell_type": "markdown",
   "metadata": {},
   "source": [
    "#Size Function:- \n",
    "In Python, numpy.size() function count the number of elements along a given axis (0-Rows | 1-columns) "
   ]
  },
  {
   "cell_type": "code",
   "execution_count": 27,
   "metadata": {},
   "outputs": [
    {
     "name": "stdout",
     "output_type": "stream",
     "text": [
      "Total Size:- 12\n",
      "Total Size of rows:- 3\n",
      "Total Size of columns:- 4\n"
     ]
    }
   ],
   "source": [
    "print(\"Total Size:-\",np.size(arr2))\n",
    "print(\"Total Size of rows:-\",np.size(arr2,axis=0))\n",
    "print(\"Total Size of columns:-\",np.size(arr2,axis=1))\n"
   ]
  },
  {
   "cell_type": "markdown",
   "metadata": {},
   "source": [
    "#shape Function"
   ]
  },
  {
   "cell_type": "code",
   "execution_count": 28,
   "metadata": {},
   "outputs": [
    {
     "data": {
      "text/plain": [
       "(3, 4)"
      ]
     },
     "execution_count": 28,
     "metadata": {},
     "output_type": "execute_result"
    }
   ],
   "source": [
    "arr2.shape"
   ]
  },
  {
   "cell_type": "markdown",
   "metadata": {},
   "source": [
    "#Dtype function(Data Type)"
   ]
  },
  {
   "cell_type": "code",
   "execution_count": 38,
   "metadata": {},
   "outputs": [],
   "source": [
    "arr=np.array([1,2,3,4,5,6,7],dtype=\"int64\")\n",
    "arr2=np.array([1.1,3.4,55.6])\n",
    "arr3=np.array([\"Prajesh\",\"Arvind\",'Waghela'])"
   ]
  },
  {
   "cell_type": "code",
   "execution_count": 39,
   "metadata": {},
   "outputs": [
    {
     "name": "stdout",
     "output_type": "stream",
     "text": [
      "int64\n",
      "float64\n",
      "<U7\n"
     ]
    }
   ],
   "source": [
    "print(arr.dtype)\n",
    "print(arr2.dtype)\n",
    "print(arr3.dtype)"
   ]
  },
  {
   "cell_type": "markdown",
   "metadata": {},
   "source": [
    "#ndmin function is used to retrun te dimension of an array"
   ]
  },
  {
   "cell_type": "code",
   "execution_count": 41,
   "metadata": {},
   "outputs": [
    {
     "data": {
      "text/plain": [
       "2"
      ]
     },
     "execution_count": 41,
     "metadata": {},
     "output_type": "execute_result"
    }
   ],
   "source": [
    "arr1=np.array([[1,2,3,4,4],[5,6,7,8,9]])\n",
    "arr1.ndim"
   ]
  },
  {
   "cell_type": "markdown",
   "metadata": {},
   "source": [
    "#Zeros Functions :- Returns a new array of given shape and type,with Zeros.\n",
    "#Syntax :- numpy.zeros(shape,dtype=None)"
   ]
  },
  {
   "cell_type": "code",
   "execution_count": 3,
   "metadata": {},
   "outputs": [],
   "source": [
    "import numpy as np"
   ]
  },
  {
   "cell_type": "code",
   "execution_count": 9,
   "metadata": {},
   "outputs": [
    {
     "name": "stdout",
     "output_type": "stream",
     "text": [
      "[[0 0 0 0]\n",
      " [0 0 0 0]\n",
      " [0 0 0 0]]\n",
      "2\n",
      "int32\n"
     ]
    }
   ],
   "source": [
    "arr=np.zeros((3,4),dtype=int)\n",
    "print(arr)\n",
    "print(arr.ndim)\n",
    "print(arr.dtype)"
   ]
  },
  {
   "cell_type": "markdown",
   "metadata": {},
   "source": [
    "#Ones Functions :- Returns a new array of given shape and type,with ones.\n",
    "#Syntax :- numpy.ones(shape,dtype=None)"
   ]
  },
  {
   "cell_type": "code",
   "execution_count": 11,
   "metadata": {},
   "outputs": [
    {
     "data": {
      "text/plain": [
       "array([[1, 1, 1, 1],\n",
       "       [1, 1, 1, 1],\n",
       "       [1, 1, 1, 1],\n",
       "       [1, 1, 1, 1]])"
      ]
     },
     "execution_count": 11,
     "metadata": {},
     "output_type": "execute_result"
    }
   ],
   "source": [
    "arr=np.ones((4,4),dtype=int)\n",
    "arr"
   ]
  },
  {
   "cell_type": "markdown",
   "metadata": {},
   "source": [
    "#Eye Function\n",
    "The eye tool returns a 2-D array with 1's as the diagonals and 0's elsewhere. The diagonal can be main,upper,or lower depending on the optional parameter k"
   ]
  },
  {
   "cell_type": "code",
   "execution_count": 15,
   "metadata": {},
   "outputs": [
    {
     "data": {
      "text/plain": [
       "array([[1, 0, 0, 0, 0, 0, 0, 0, 0, 0],\n",
       "       [0, 1, 0, 0, 0, 0, 0, 0, 0, 0],\n",
       "       [0, 0, 1, 0, 0, 0, 0, 0, 0, 0],\n",
       "       [0, 0, 0, 1, 0, 0, 0, 0, 0, 0],\n",
       "       [0, 0, 0, 0, 1, 0, 0, 0, 0, 0],\n",
       "       [0, 0, 0, 0, 0, 1, 0, 0, 0, 0],\n",
       "       [0, 0, 0, 0, 0, 0, 1, 0, 0, 0],\n",
       "       [0, 0, 0, 0, 0, 0, 0, 1, 0, 0],\n",
       "       [0, 0, 0, 0, 0, 0, 0, 0, 1, 0],\n",
       "       [0, 0, 0, 0, 0, 0, 0, 0, 0, 1]])"
      ]
     },
     "execution_count": 15,
     "metadata": {},
     "output_type": "execute_result"
    }
   ],
   "source": [
    "np.eye(10,dtype=int)"
   ]
  },
  {
   "cell_type": "markdown",
   "metadata": {},
   "source": [
    "#Empty Function :- gives you an array with whatever happened to be in memory; there is no promise that it zeros out the array."
   ]
  },
  {
   "cell_type": "code",
   "execution_count": 25,
   "metadata": {},
   "outputs": [
    {
     "data": {
      "text/plain": [
       "array([[1., 1.],\n",
       "       [1., 1.],\n",
       "       [1., 1.],\n",
       "       [1., 1.],\n",
       "       [1., 1.]])"
      ]
     },
     "execution_count": 25,
     "metadata": {},
     "output_type": "execute_result"
    }
   ],
   "source": [
    "np.empty(shape=(5,2))"
   ]
  },
  {
   "cell_type": "markdown",
   "metadata": {},
   "source": [
    "#Random Functions\n"
   ]
  },
  {
   "cell_type": "markdown",
   "metadata": {},
   "source": [
    "#1) np.random.rand :- creates an array of specified shape and fills it with the random Values "
   ]
  },
  {
   "cell_type": "code",
   "execution_count": 30,
   "metadata": {},
   "outputs": [
    {
     "data": {
      "text/plain": [
       "array([[0.06147924, 0.25876856, 0.82142897, 0.57274156],\n",
       "       [0.94379611, 0.8511023 , 0.70382772, 0.16300405],\n",
       "       [0.31161843, 0.81866513, 0.18027997, 0.71045059],\n",
       "       [0.55931446, 0.69110557, 0.07192367, 0.85328568]])"
      ]
     },
     "execution_count": 30,
     "metadata": {},
     "output_type": "execute_result"
    }
   ],
   "source": [
    "np.random.rand(4,4)"
   ]
  },
  {
   "cell_type": "code",
   "execution_count": 32,
   "metadata": {},
   "outputs": [
    {
     "data": {
      "text/plain": [
       "array([[0.67140869, 0.08439943, 0.12092224, 0.35890884, 0.00448164],\n",
       "       [0.83815187, 0.45878991, 0.52759743, 0.35673766, 0.69882008]])"
      ]
     },
     "execution_count": 32,
     "metadata": {},
     "output_type": "execute_result"
    }
   ],
   "source": [
    "np.random.rand(2,5)"
   ]
  },
  {
   "cell_type": "markdown",
   "metadata": {},
   "source": [
    "#2) np.random.randint :- is one of the function for doing Random sampling in python . As we are generating the random int we need to specifiy the start and end inetrval"
   ]
  },
  {
   "cell_type": "code",
   "execution_count": 20,
   "metadata": {},
   "outputs": [
    {
     "name": "stdout",
     "output_type": "stream",
     "text": [
      "3\n",
      "[4 4 9 7 2 5 4]\n",
      "[[3 4 4 2 2]\n",
      " [6 9 4 3 1]]\n"
     ]
    }
   ],
   "source": [
    "print(np.random.randint(1,10))\n",
    "print(np.random.randint(low=1,high=10,size=7))\n",
    "print(np.random.randint(1,10,(2,5)))"
   ]
  },
  {
   "cell_type": "markdown",
   "metadata": {},
   "source": [
    "3) np.random.randn() :- function creates an array of specified shape and fills it with random values as per standard Normal distribution"
   ]
  },
  {
   "cell_type": "code",
   "execution_count": 59,
   "metadata": {},
   "outputs": [
    {
     "data": {
      "text/plain": [
       "array([[[-0.63277212, -1.03276032],\n",
       "        [ 1.79898939,  0.55970111]],\n",
       "\n",
       "       [[-0.27987134,  1.06612961],\n",
       "        [ 1.4419748 , -0.40089545]]])"
      ]
     },
     "execution_count": 59,
     "metadata": {},
     "output_type": "execute_result"
    }
   ],
   "source": [
    "np.random.randn(2,2,2)"
   ]
  },
  {
   "cell_type": "code",
   "execution_count": 22,
   "metadata": {},
   "outputs": [
    {
     "data": {
      "image/png": "[encoded data removed]",
      "text/plain": [
       "<Figure size 640x480 with 1 Axes>"
      ]
     },
     "metadata": {},
     "output_type": "display_data"
    }
   ],
   "source": [
    "import matplotlib.pyplot as plt\n",
    "%matplotlib inline\n",
    "plt.hist(np.random.randn(1000000),bins=100);"
   ]
  },
  {
   "cell_type": "code",
   "execution_count": 2,
   "metadata": {},
   "outputs": [],
   "source": [
    "import numpy as np"
   ]
  },
  {
   "cell_type": "code",
   "execution_count": 23,
   "metadata": {},
   "outputs": [
    {
     "data": {
      "text/plain": [
       "array([[6, 6],\n",
       "       [1, 8],\n",
       "       [8, 3],\n",
       "       [5, 2],\n",
       "       [5, 3],\n",
       "       [4, 9]])"
      ]
     },
     "execution_count": 23,
     "metadata": {},
     "output_type": "execute_result"
    }
   ],
   "source": [
    "# Reshape Function :- will not  alter the original Data\n",
    "arr=np.random.randint(1,10,(3,4))\n",
    "arr.reshape(4,3)\n",
    "arr.reshape(6,2)"
   ]
  },
  {
   "cell_type": "markdown",
   "metadata": {},
   "source": [
    "# Linspace Function :- numpy.linspace() function returns number space evenly w.r.t intervals"
   ]
  },
  {
   "cell_type": "code",
   "execution_count": 29,
   "metadata": {},
   "outputs": [
    {
     "data": {
      "text/plain": [
       "array([ 1.        ,  1.31034483,  1.62068966,  1.93103448,  2.24137931,\n",
       "        2.55172414,  2.86206897,  3.17241379,  3.48275862,  3.79310345,\n",
       "        4.10344828,  4.4137931 ,  4.72413793,  5.03448276,  5.34482759,\n",
       "        5.65517241,  5.96551724,  6.27586207,  6.5862069 ,  6.89655172,\n",
       "        7.20689655,  7.51724138,  7.82758621,  8.13793103,  8.44827586,\n",
       "        8.75862069,  9.06896552,  9.37931034,  9.68965517, 10.        ])"
      ]
     },
     "execution_count": 29,
     "metadata": {},
     "output_type": "execute_result"
    }
   ],
   "source": [
    "arr=np.linspace(1,10,30)\n",
    "arr"
   ]
  },
  {
   "cell_type": "markdown",
   "metadata": {},
   "source": [
    "#Flatten Function :- return a copy of array collapsed into one dimension"
   ]
  },
  {
   "cell_type": "code",
   "execution_count": 38,
   "metadata": {},
   "outputs": [
    {
     "name": "stdout",
     "output_type": "stream",
     "text": [
      "Original array :- [[0.05628463 0.36687896 0.83445157 0.21380578 0.75130799]\n",
      " [0.89606595 0.92290595 0.18200273 0.75816751 0.93867136]\n",
      " [0.71500197 0.64177813 0.23269968 0.900867   0.19423364]\n",
      " [0.11033356 0.99551082 0.59211305 0.63121906 0.32362554]\n",
      " [0.9782297  0.70034694 0.94417438 0.72160599 0.56963077]]\n",
      "----------------------------------------------------------------------\n",
      "Flattern array :- [0.05628463 0.36687896 0.83445157 0.21380578 0.75130799 0.89606595\n",
      " 0.92290595 0.18200273 0.75816751 0.93867136 0.71500197 0.64177813\n",
      " 0.23269968 0.900867   0.19423364 0.11033356 0.99551082 0.59211305\n",
      " 0.63121906 0.32362554 0.9782297  0.70034694 0.94417438 0.72160599\n",
      " 0.56963077]\n",
      "shape of flattern array :- (25,)\n"
     ]
    }
   ],
   "source": [
    "arr=np.random.rand(5,5)\n",
    "print(f'Original array :- {arr}')\n",
    "print(\"-\"*70)\n",
    "print(f'Flattern array :- {arr.flatten()}')\n",
    "print(f\"shape of flattern array :- {arr.flatten().shape}\")"
   ]
  },
  {
   "cell_type": "markdown",
   "metadata": {},
   "source": [
    "#Logspace Function :- The numpy.logspace() function returns number spaces evenly w.r.t interval on a log scale"
   ]
  },
  {
   "cell_type": "code",
   "execution_count": 49,
   "metadata": {},
   "outputs": [
    {
     "name": "stdout",
     "output_type": "stream",
     "text": [
      "[1.e+005 1.e+010 1.e+015 1.e+020 1.e+025 1.e+030 1.e+035 1.e+040 1.e+045\n",
      " 1.e+050 1.e+055 1.e+060 1.e+065 1.e+070 1.e+075 1.e+080 1.e+085 1.e+090\n",
      " 1.e+095 1.e+100]\n",
      "----------------------------------------------------------------------\n",
      "[  32.           47.03150375   69.12382329  101.59366733  149.31571707\n",
      "  219.45445961  322.53978877  474.04785269  696.72448009 1024.        ]\n"
     ]
    }
   ],
   "source": [
    "print(np.logspace(5,100,20))\n",
    "print(\"-\"*70)\n",
    "print(np.logspace(5,10,10,base=2))"
   ]
  },
  {
   "cell_type": "markdown",
   "metadata": {},
   "source": [
    "#Copy Function :- If we normally use equals sign then the **id** of both the numpy array will be same,so we need to use a copy() function"
   ]
  },
  {
   "cell_type": "code",
   "execution_count": 62,
   "metadata": {},
   "outputs": [
    {
     "name": "stdout",
     "output_type": "stream",
     "text": [
      "[[3 9 3 6 3]\n",
      " [1 6 9 5 5]\n",
      " [1 7 8 2 1]\n",
      " [6 9 7 4 3]\n",
      " [1 4 6 8 4]] 2358436252240\n",
      "--------------------------------------------------\n",
      "[[3 9 3 6 3]\n",
      " [1 6 9 5 5]\n",
      " [1 7 8 2 1]\n",
      " [6 9 7 4 3]\n",
      " [1 4 6 8 4]] 2358436252240\n",
      "--------------------------------------------------\n",
      "[[3 9 3 6 3]\n",
      " [1 6 9 5 5]\n",
      " [1 7 8 2 1]\n",
      " [6 9 7 4 3]\n",
      " [1 4 6 8 4]] 2358436208688\n"
     ]
    }
   ],
   "source": [
    "arr1=np.random.randint(1,10,(5,5))\n",
    "arr2=arr1\n",
    "arr3=arr1.copy()\n",
    "print(arr1,id(arr1))\n",
    "print(\"-\"*50)\n",
    "print(arr2,id(arr2))\n",
    "print(\"-\"*50)\n",
    "print(arr3,id(arr3))"
   ]
  },
  {
   "cell_type": "code",
   "execution_count": 63,
   "metadata": {},
   "outputs": [],
   "source": [
    "import numpy as np"
   ]
  },
  {
   "cell_type": "markdown",
   "metadata": {},
   "source": [
    "#arr.max(),arr.min(),arr.sum() functions"
   ]
  },
  {
   "cell_type": "code",
   "execution_count": 81,
   "metadata": {},
   "outputs": [
    {
     "name": "stdout",
     "output_type": "stream",
     "text": [
      "[[13  2  3  5 11]\n",
      " [ 4 10 13  6  1]\n",
      " [ 8  3 13  2  3]\n",
      " [ 7  8  5 14  8]]\n",
      "maxamum element is : 14\n",
      "minimum element in an array is : 1\n",
      "Sum of all the elements in the array : 139\n"
     ]
    }
   ],
   "source": [
    "arr=np.random.randint(1,15,20).reshape(4,5)\n",
    "print(arr)\n",
    "print(f\"maxamum element is : {arr.max()}\")\n",
    "print(f\"minimum element in an array is : {arr.min()}\")\n",
    "print(f\"Sum of all the elements in the array : {arr.sum()}\")"
   ]
  },
  {
   "cell_type": "markdown",
   "metadata": {},
   "source": [
    "# we can use the axis paramater to get the max and min and sum of a particular column and row"
   ]
  },
  {
   "cell_type": "code",
   "execution_count": 88,
   "metadata": {},
   "outputs": [
    {
     "data": {
      "text/plain": [
       "array([[12,  4,  2,  1, 13],\n",
       "       [ 4,  6,  9,  3,  4],\n",
       "       [ 8, 13, 10, 10,  4],\n",
       "       [ 5,  6,  5,  8, 13],\n",
       "       [13, 13, 13,  3, 14]])"
      ]
     },
     "execution_count": 88,
     "metadata": {},
     "output_type": "execute_result"
    }
   ],
   "source": [
    "arr2=np.random.randint(1,15,(5,5))\n",
    "arr2"
   ]
  },
  {
   "cell_type": "code",
   "execution_count": 94,
   "metadata": {},
   "outputs": [
    {
     "name": "stdout",
     "output_type": "stream",
     "text": [
      "[13 13 13 10 14]\n",
      "[4 4 2 1 4]\n",
      "[42 42 39 25 48]\n",
      "[13  9 13 13 14]\n",
      "[1 3 4 5 3]\n",
      "[32 26 45 37 56]\n"
     ]
    }
   ],
   "source": [
    "#For columns\n",
    "print(arr2.max(axis=0))\n",
    "print(arr2.min(axis=0))\n",
    "print(arr2.sum(axis=0))\n",
    "#For rows\n",
    "print(arr2.max(axis=1))\n",
    "print(arr2.min(axis=1))\n",
    "print(arr2.sum(axis=1))"
   ]
  },
  {
   "cell_type": "markdown",
   "metadata": {},
   "source": [
    "#Seed Function :- Used to generate a random number but not exactly random number they are called a pseudo-random number"
   ]
  },
  {
   "cell_type": "markdown",
   "metadata": {},
   "source": [
    "#pseudo-random numbers are the number which are random but can be determined"
   ]
  },
  {
   "cell_type": "code",
   "execution_count": 101,
   "metadata": {},
   "outputs": [
    {
     "data": {
      "text/plain": [
       "array([[8, 6, 2, 9, 8],\n",
       "       [9, 3, 8, 8, 8],\n",
       "       [9, 5, 3, 7, 5]])"
      ]
     },
     "execution_count": 101,
     "metadata": {},
     "output_type": "execute_result"
    }
   ],
   "source": [
    "np.random.seed(4)\n",
    "arr=np.random.randint(1,10,(3,5))\n",
    "arr"
   ]
  },
  {
   "cell_type": "code",
   "execution_count": 102,
   "metadata": {},
   "outputs": [
    {
     "name": "stdout",
     "output_type": "stream",
     "text": [
      "[[8 6 2 9 8]\n",
      " [9 3 8 8 8]\n",
      " [9 5 3 7 5]]\n"
     ]
    }
   ],
   "source": [
    "print(arr)"
   ]
  },
  {
   "cell_type": "markdown",
   "metadata": {},
   "source": [
    "#Sorting Function :- return a sorted copy of an arrray "
   ]
  },
  {
   "cell_type": "code",
   "execution_count": 119,
   "metadata": {},
   "outputs": [
    {
     "name": "stdout",
     "output_type": "stream",
     "text": [
      "[[8 6 2 9 8]\n",
      " [9 3 8 8 8]\n",
      " [9 5 3 7 5]]\n",
      "------------------------------\n",
      "[[8 3 2 7 5]\n",
      " [9 5 3 8 8]\n",
      " [9 6 8 9 8]]\n",
      "------------------------------\n",
      "[[2 6 8 8 9]\n",
      " [3 8 8 8 9]\n",
      " [3 5 5 7 9]]\n",
      "------------------------------\n",
      "[[2 3 3 5 5]\n",
      " [6 7 8 8 8]\n",
      " [8 8 9 9 9]]\n",
      "------------------------------\n",
      "[[2 3 3 5 5]\n",
      " [6 7 8 8 8]\n",
      " [8 8 9 9 9]]\n"
     ]
    }
   ],
   "source": [
    "print(arr)\n",
    "print(\"-\"*30)\n",
    "print(np.sort(arr,axis=0))\n",
    "print(\"-\"*30)\n",
    "print(np.sort(arr,axis=1))\n",
    "print(\"-\"*30)\n",
    "print(np.sort(arr.flatten()).reshape(3,5))\n",
    "print(\"-\"*30)\n",
    "print(np.reshape(np.sort(arr.flatten()),arr.shape))"
   ]
  },
  {
   "cell_type": "code",
   "execution_count": 127,
   "metadata": {},
   "outputs": [
    {
     "name": "stdout",
     "output_type": "stream",
     "text": [
      "[[12  4  2  1 13]\n",
      " [ 4  6  9  3  4]\n",
      " [ 8 13 10 10  4]\n",
      " [ 5  6  5  8 13]\n",
      " [13 13 13  3 14]]\n",
      "[[ 1  2  4 12 13]\n",
      " [ 3  4  4  6  9]\n",
      " [ 4  8 10 10 13]\n",
      " [ 5  5  6  8 13]\n",
      " [ 3 13 13 13 14]]\n",
      "[[ 1  2  4 12 13]\n",
      " [ 3  4  4  6  9]\n",
      " [ 4  8 10 10 13]\n",
      " [ 5  5  6  8 13]\n",
      " [ 3 13 13 13 14]]\n"
     ]
    }
   ],
   "source": [
    "print(arr2)\n",
    "#sorting using quick sort\n",
    "print(np.sort(arr2,axis=1,kind=\"quicksort\"))\n",
    "#sorting using merge sort\n",
    "print(np.sort(arr2,axis=1,kind=\"mergesort\"))"
   ]
  },
  {
   "cell_type": "markdown",
   "metadata": {},
   "source": [
    "#Mathematical Operations"
   ]
  },
  {
   "cell_type": "code",
   "execution_count": 1,
   "metadata": {},
   "outputs": [],
   "source": [
    "import numpy as np"
   ]
  },
  {
   "cell_type": "code",
   "execution_count": 10,
   "metadata": {},
   "outputs": [
    {
     "name": "stdout",
     "output_type": "stream",
     "text": [
      "[[9 4 9 9 1]\n",
      " [6 4 6 8 7]\n",
      " [1 5 8 9 2]]\n",
      "------------------------------\n",
      "[[10  5 10 10  2]\n",
      " [ 7  5  7  9  8]\n",
      " [ 2  6  9 10  3]]\n",
      "------------------------------\n"
     ]
    }
   ],
   "source": [
    "#addition\n",
    "np.random.seed(3)\n",
    "arr=np.random.randint(1,10,(3,5))\n",
    "print(arr)\n",
    "print(\"-\"*30)\n",
    "print(arr+1)\n",
    "print(\"-\"*30)"
   ]
  },
  {
   "cell_type": "code",
   "execution_count": 14,
   "metadata": {},
   "outputs": [
    {
     "name": "stdout",
     "output_type": "stream",
     "text": [
      "[[9 4 9 9 1]\n",
      " [6 4 6 8 7]\n",
      " [1 5 8 9 2]]\n",
      "------------------------------\n",
      "[[45 20 45 45  5]\n",
      " [30 20 30 40 35]\n",
      " [ 5 25 40 45 10]]\n"
     ]
    }
   ],
   "source": [
    "#Multiplication\n",
    "print(arr)\n",
    "print(\"-\"*30)\n",
    "print(arr*5)"
   ]
  },
  {
   "cell_type": "code",
   "execution_count": 15,
   "metadata": {},
   "outputs": [
    {
     "name": "stdout",
     "output_type": "stream",
     "text": [
      "[[9 4 9 9 1]\n",
      " [6 4 6 8 7]\n",
      " [1 5 8 9 2]]\n",
      "------------------------------\n",
      "[[ 7  2  7  7 -1]\n",
      " [ 4  2  4  6  5]\n",
      " [-1  3  6  7  0]]\n"
     ]
    }
   ],
   "source": [
    "#Substraction\n",
    "print(arr)\n",
    "print(\"-\"*30)\n",
    "print(arr-2)"
   ]
  },
  {
   "cell_type": "markdown",
   "metadata": {},
   "source": [
    "#Matrix Multiplication :- we either use \"dot\" function or \"@\" symbol"
   ]
  },
  {
   "cell_type": "code",
   "execution_count": 2,
   "metadata": {},
   "outputs": [
    {
     "name": "stdout",
     "output_type": "stream",
     "text": [
      "[[9 5]\n",
      " [8 4]]\n",
      "------------------------------\n",
      "[[8 8]\n",
      " [5 7]]\n"
     ]
    }
   ],
   "source": [
    "arr1=np.random.randint(1,10,(2,2))\n",
    "arr2=np.random.randint(1,10,(2,2))\n",
    "print(arr1)\n",
    "print(\"-\"*30)\n",
    "print(arr2)"
   ]
  },
  {
   "cell_type": "code",
   "execution_count": 4,
   "metadata": {},
   "outputs": [
    {
     "name": "stdout",
     "output_type": "stream",
     "text": [
      "[[ 97 107]\n",
      " [ 84  92]]\n",
      "[[ 97 107]\n",
      " [ 84  92]]\n"
     ]
    }
   ],
   "source": [
    "print(arr1.dot(arr2))\n",
    "print(arr1@arr2)"
   ]
  },
  {
   "cell_type": "code",
   "execution_count": 25,
   "metadata": {},
   "outputs": [
    {
     "data": {
      "text/plain": [
       "array([[32, 29],\n",
       "       [14, 11]])"
      ]
     },
     "execution_count": 25,
     "metadata": {},
     "output_type": "execute_result"
    }
   ],
   "source": [
    "arr2.dot(arr1)"
   ]
  },
  {
   "cell_type": "markdown",
   "metadata": {},
   "source": [
    "#Power"
   ]
  },
  {
   "cell_type": "code",
   "execution_count": 27,
   "metadata": {},
   "outputs": [
    {
     "name": "stdout",
     "output_type": "stream",
     "text": [
      "[[9 4 9 9 1]\n",
      " [6 4 6 8 7]\n",
      " [1 5 8 9 2]]\n",
      "--------------------\n",
      "[[81 16 81 81  1]\n",
      " [36 16 36 64 49]\n",
      " [ 1 25 64 81  4]]\n"
     ]
    }
   ],
   "source": [
    "print(arr)\n",
    "print('-'*20)\n",
    "print(arr**2)"
   ]
  },
  {
   "cell_type": "markdown",
   "metadata": {},
   "source": [
    "#Percentile Function :- numpy.percentile() function is used to compute the nth percentile of the given data (array element) along the specified axis"
   ]
  },
  {
   "cell_type": "code",
   "execution_count": 44,
   "metadata": {},
   "outputs": [
    {
     "name": "stdout",
     "output_type": "stream",
     "text": [
      "[5 9 1 7]\n"
     ]
    },
    {
     "data": {
      "text/plain": [
       "6.0"
      ]
     },
     "execution_count": 44,
     "metadata": {},
     "output_type": "execute_result"
    }
   ],
   "source": [
    "arr=np.random.randint(1,10,(2,2))\n",
    "arr=arr.flatten()\n",
    "print(arr)\n",
    "np.percentile(arr,50)\n"
   ]
  },
  {
   "cell_type": "markdown",
   "metadata": {},
   "source": [
    "#Mean , Median, Mode"
   ]
  },
  {
   "cell_type": "code",
   "execution_count": 9,
   "metadata": {},
   "outputs": [
    {
     "name": "stdout",
     "output_type": "stream",
     "text": [
      "[9 4 9 9 1 6 4 6 8 7]\n",
      "6.3\n",
      "6.5\n",
      "2.5317977802344327\n",
      "6.410000000000001\n"
     ]
    }
   ],
   "source": [
    "import numpy as np\n",
    "np.random.seed(3)\n",
    "\n",
    "arr=np.random.randint(1,10,10)\n",
    "print(arr)\n",
    "print(np.mean(arr))\n",
    "print(np.median(arr))\n",
    "print(np.std(arr))\n",
    "print(np.var(arr))"
   ]
  },
  {
   "cell_type": "markdown",
   "metadata": {},
   "source": [
    "# Filtering a numpy Array"
   ]
  },
  {
   "cell_type": "code",
   "execution_count": 14,
   "metadata": {},
   "outputs": [
    {
     "name": "stdout",
     "output_type": "stream",
     "text": [
      "[ 1  2  3  4  5  6  7  8  9 10 11 12 13 14]\n",
      "[False False False False False False False False False False  True  True\n",
      "  True  True]\n",
      "[11 12 13 14]\n"
     ]
    }
   ],
   "source": [
    "arr=np.arange(1,15)\n",
    "print(arr)\n",
    "print(arr > 10)\n",
    "print(arr[arr > 10])"
   ]
  },
  {
   "cell_type": "code",
   "execution_count": 15,
   "metadata": {},
   "outputs": [
    {
     "data": {
      "text/plain": [
       "array([ 6,  7,  8,  9, 10, 11, 12, 13, 14])"
      ]
     },
     "execution_count": 15,
     "metadata": {},
     "output_type": "execute_result"
    }
   ],
   "source": [
    "arr[arr > 5]"
   ]
  },
  {
   "cell_type": "markdown",
   "metadata": {},
   "source": [
    "# Transposing array :- converting columns into rows and rows into column"
   ]
  },
  {
   "cell_type": "code",
   "execution_count": 19,
   "metadata": {},
   "outputs": [
    {
     "name": "stdout",
     "output_type": "stream",
     "text": [
      "[[ 8  6 14  2  2]\n",
      " [ 2  6  6  8 11]\n",
      " [12 13  5  4 12]]\n",
      "------------------------------\n",
      "[[ 8  2 12]\n",
      " [ 6  6 13]\n",
      " [14  6  5]\n",
      " [ 2  8  4]\n",
      " [ 2 11 12]]\n"
     ]
    }
   ],
   "source": [
    "arr= np.random.randint(1,15,(3,5))\n",
    "print(arr)\n",
    "print(\"-\"*30)\n",
    "print(arr.T)"
   ]
  },
  {
   "cell_type": "markdown",
   "metadata": {},
   "source": [
    "#Where Function :- the numpy.where() function returns the indices of element in an input array where the given condition is satisfied"
   ]
  },
  {
   "cell_type": "code",
   "execution_count": 5,
   "metadata": {},
   "outputs": [
    {
     "name": "stdout",
     "output_type": "stream",
     "text": [
      "[18 95 92 75 21 15 95  2 86 15]\n"
     ]
    }
   ],
   "source": [
    "arr= np.random.randint(1,100,10)\n",
    "print(arr)"
   ]
  },
  {
   "cell_type": "code",
   "execution_count": 6,
   "metadata": {},
   "outputs": [
    {
     "name": "stdout",
     "output_type": "stream",
     "text": [
      "['even' '95' 'even' '75' '21' '15' '95' 'even' 'even' '15']\n",
      "['18' 'odd' '92' 'odd' 'odd' 'odd' 'odd' '2' '86' 'odd']\n",
      "['even' 'odd' 'even' 'odd' 'odd' 'odd' 'odd' 'even' 'even' 'odd']\n"
     ]
    }
   ],
   "source": [
    "print(np.where(arr%2==0,'even',arr))\n",
    "print(np.where(arr%2 != 0,'odd',arr))\n",
    "print(np.where(arr%2==0,'even','odd'))"
   ]
  },
  {
   "cell_type": "markdown",
   "metadata": {},
   "source": [
    "# Merge 2-Arrays"
   ]
  },
  {
   "cell_type": "code",
   "execution_count": 27,
   "metadata": {},
   "outputs": [],
   "source": [
    "#a) concatenate :- using this function arrays are concatenated either row wise or column wise,given that they have\n",
    "# equal rows and columns respectively"
   ]
  },
  {
   "cell_type": "code",
   "execution_count": 33,
   "metadata": {},
   "outputs": [
    {
     "name": "stdout",
     "output_type": "stream",
     "text": [
      "[[10  9 10]\n",
      " [12  5  6]\n",
      " [14  1  9]\n",
      " [14  8  2]\n",
      " [ 3  6  3]]\n",
      "------------------------------\n",
      "[[11 14 11]\n",
      " [ 8 13 12]\n",
      " [ 7  8 10]\n",
      " [ 2  6  8]\n",
      " [13 13  6]]\n",
      "------------------------------\n",
      "[[10  9 10]\n",
      " [12  5  6]\n",
      " [14  1  9]\n",
      " [14  8  2]\n",
      " [ 3  6  3]\n",
      " [11 14 11]\n",
      " [ 8 13 12]\n",
      " [ 7  8 10]\n",
      " [ 2  6  8]\n",
      " [13 13  6]]\n"
     ]
    }
   ],
   "source": [
    "arr1=np.random.randint(1,15,(5,3))\n",
    "print(arr1)\n",
    "print(\"-\"*30)\n",
    "arr2=np.random.randint(1,15,(5,3))\n",
    "print(arr2)\n",
    "print(\"-\"*30)\n",
    "print(np.concatenate((arr1,arr2),axis=0))"
   ]
  },
  {
   "cell_type": "code",
   "execution_count": 34,
   "metadata": {},
   "outputs": [
    {
     "name": "stdout",
     "output_type": "stream",
     "text": [
      "[[10  9 10 11 14 11]\n",
      " [12  5  6  8 13 12]\n",
      " [14  1  9  7  8 10]\n",
      " [14  8  2  2  6  8]\n",
      " [ 3  6  3 13 13  6]]\n"
     ]
    }
   ],
   "source": [
    "print(np.concatenate((arr1,arr2),axis=1))"
   ]
  },
  {
   "cell_type": "code",
   "execution_count": 40,
   "metadata": {},
   "outputs": [
    {
     "name": "stdout",
     "output_type": "stream",
     "text": [
      "[[ 6  8  2]\n",
      " [12 12  4]\n",
      " [11 10  4]\n",
      " [ 6  1  8]\n",
      " [ 3 13  7]]\n",
      "------------------------------\n",
      "[[11  1 12]\n",
      " [ 2  1  5]\n",
      " [ 7  6  7]\n",
      " [11  5 10]\n",
      " [ 8 14  1]]\n",
      "------------------------------\n",
      "[[ 6  8  2]\n",
      " [12 12  4]\n",
      " [11 10  4]\n",
      " [ 6  1  8]\n",
      " [ 3 13  7]\n",
      " [11  1 12]\n",
      " [ 2  1  5]\n",
      " [ 7  6  7]\n",
      " [11  5 10]\n",
      " [ 8 14  1]]\n",
      "------------------------------\n",
      "[[ 6  8  2 11  1 12]\n",
      " [12 12  4  2  1  5]\n",
      " [11 10  4  7  6  7]\n",
      " [ 6  1  8 11  5 10]\n",
      " [ 3 13  7  8 14  1]]\n"
     ]
    }
   ],
   "source": [
    "#Vstack(Vertical Stack) and Hstack(Horizontal Stack)\n",
    "arr1=np.random.randint(1,15,(5,3))\n",
    "print(arr1)\n",
    "print(\"-\"*30)\n",
    "arr2=np.random.randint(1,15,(5,3))\n",
    "print(arr2)\n",
    "print(\"-\"*30)\n",
    "print(np.vstack((arr1,arr2)))\n",
    "print(\"-\"*30)\n",
    "print(np.hstack((arr1,arr2)))\n",
    "\n"
   ]
  },
  {
   "cell_type": "markdown",
   "metadata": {},
   "source": [
    "#Splitting Arrays :-  we can split the array into two vertically or Horizontally"
   ]
  },
  {
   "cell_type": "code",
   "execution_count": 43,
   "metadata": {},
   "outputs": [
    {
     "name": "stdout",
     "output_type": "stream",
     "text": [
      "[[ 4  1 13  2]\n",
      " [ 5  9 12  6]\n",
      " [13  5  4  6]\n",
      " [14  1  9 11]]\n",
      "------------------------------\n"
     ]
    }
   ],
   "source": [
    "arr1=np.random.randint(1,15,(4,4))\n",
    "print(arr1)\n",
    "print(\"-\"*30)\n"
   ]
  },
  {
   "cell_type": "code",
   "execution_count": 48,
   "metadata": {},
   "outputs": [
    {
     "data": {
      "text/plain": [
       "[array([[ 4,  1, 13,  2],\n",
       "        [ 5,  9, 12,  6]]),\n",
       " array([[13,  5,  4,  6],\n",
       "        [14,  1,  9, 11]])]"
      ]
     },
     "execution_count": 48,
     "metadata": {},
     "output_type": "execute_result"
    }
   ],
   "source": [
    "np.vsplit(arr1,2)"
   ]
  },
  {
   "cell_type": "code",
   "execution_count": 51,
   "metadata": {},
   "outputs": [
    {
     "data": {
      "text/plain": [
       "[array([[ 4,  1],\n",
       "        [ 5,  9],\n",
       "        [13,  5],\n",
       "        [14,  1]]),\n",
       " array([[13,  2],\n",
       "        [12,  6],\n",
       "        [ 4,  6],\n",
       "        [ 9, 11]])]"
      ]
     },
     "execution_count": 51,
     "metadata": {},
     "output_type": "execute_result"
    }
   ],
   "source": [
    "np.hsplit(arr1,2)"
   ]
  },
  {
   "cell_type": "markdown",
   "metadata": {},
   "source": [
    "# Turning a picture into a numpy arrays"
   ]
  },
  {
   "cell_type": "markdown",
   "metadata": {},
   "source": [
    "<img src=r\"C:\\\\Users\\\\Admin\\\\OneDrive\\\\Desktop\\\\Prajesh_waghela.jpg\">"
   ]
  },
  {
   "cell_type": "code",
   "execution_count": 53,
   "metadata": {},
   "outputs": [],
   "source": [
    "from matplotlib.image import imread"
   ]
  },
  {
   "cell_type": "code",
   "execution_count": 54,
   "metadata": {},
   "outputs": [
    {
     "data": {
      "text/plain": [
       "array([[[255, 255, 255],\n",
       "        [255, 255, 255],\n",
       "        [255, 255, 255],\n",
       "        ...,\n",
       "        [255, 255, 255],\n",
       "        [255, 255, 255],\n",
       "        [255, 255, 255]],\n",
       "\n",
       "       [[255, 255, 255],\n",
       "        [255, 255, 255],\n",
       "        [255, 255, 255],\n",
       "        ...,\n",
       "        [255, 255, 255],\n",
       "        [255, 255, 255],\n",
       "        [255, 255, 255]],\n",
       "\n",
       "       [[255, 255, 255],\n",
       "        [255, 255, 255],\n",
       "        [255, 255, 255],\n",
       "        ...,\n",
       "        [255, 255, 255],\n",
       "        [255, 255, 255],\n",
       "        [255, 255, 255]],\n",
       "\n",
       "       ...,\n",
       "\n",
       "       [[ 10,  20,  45],\n",
       "        [  6,  13,  42],\n",
       "        [  0,   9,  36],\n",
       "        ...,\n",
       "        [ 12,  27,  50],\n",
       "        [  8,  23,  46],\n",
       "        [  4,  11,  37]],\n",
       "\n",
       "       [[  7,  17,  42],\n",
       "        [  7,  14,  40],\n",
       "        [  4,  12,  35],\n",
       "        ...,\n",
       "        [  5,  20,  43],\n",
       "        [  5,  18,  37],\n",
       "        [  0,   6,  28]],\n",
       "\n",
       "       [[  7,  21,  47],\n",
       "        [  8,  19,  39],\n",
       "        [  3,  11,  34],\n",
       "        ...,\n",
       "        [  0,  10,  35],\n",
       "        [  0,   7,  26],\n",
       "        [  0,   2,  23]]], dtype=uint8)"
      ]
     },
     "execution_count": 54,
     "metadata": {},
     "output_type": "execute_result"
    }
   ],
   "source": [
    "image=imread(r\"C:\\\\Users\\\\Admin\\\\OneDrive\\\\Desktop\\\\Prajesh_waghela.jpg\")\n",
    "image"
   ]
  },
  {
   "cell_type": "code",
   "execution_count": 55,
   "metadata": {},
   "outputs": [
    {
     "data": {
      "text/plain": [
       "(531, 413, 3)"
      ]
     },
     "execution_count": 55,
     "metadata": {},
     "output_type": "execute_result"
    }
   ],
   "source": [
    "image.shape"
   ]
  },
  {
   "cell_type": "code",
   "execution_count": 56,
   "metadata": {},
   "outputs": [
    {
     "data": {
      "text/plain": [
       "255"
      ]
     },
     "execution_count": 56,
     "metadata": {},
     "output_type": "execute_result"
    }
   ],
   "source": [
    "np.max(image)"
   ]
  },
  {
   "cell_type": "code",
   "execution_count": 57,
   "metadata": {},
   "outputs": [
    {
     "data": {
      "text/plain": [
       "0"
      ]
     },
     "execution_count": 57,
     "metadata": {},
     "output_type": "execute_result"
    }
   ],
   "source": [
    "np.min(image)"
   ]
  },
  {
   "cell_type": "code",
   "execution_count": 58,
   "metadata": {},
   "outputs": [
    {
     "data": {
      "text/plain": [
       "3"
      ]
     },
     "execution_count": 58,
     "metadata": {},
     "output_type": "execute_result"
    }
   ],
   "source": [
    "image.ndim"
   ]
  },
  {
   "cell_type": "code",
   "execution_count": null,
   "metadata": {},
   "outputs": [],
   "source": []
  },
  {
   "cell_type": "code",
   "execution_count": null,
   "metadata": {},
   "outputs": [],
   "source": []
  },
  {
   "cell_type": "code",
   "execution_count": null,
   "metadata": {},
   "outputs": [],
   "source": []
  }
 ],
 "metadata": {
  "kernelspec": {
   "display_name": "Python 3",
   "language": "python",
   "name": "python3"
  },
  "language_info": {
   "codemirror_mode": {
    "name": "ipython",
    "version": 3
   },
   "file_extension": ".py",
   "mimetype": "text/x-python",
   "name": "python",
   "nbconvert_exporter": "python",
   "pygments_lexer": "ipython3",
   "version": "3.8.10"
  }
 },
 "nbformat": 4,
 "nbformat_minor": 2
}
