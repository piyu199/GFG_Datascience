{
 "cells": [
  {
   "cell_type": "markdown",
   "metadata": {},
   "source": [
    "# PANDAS"
   ]
  },
  {
   "cell_type": "markdown",
   "metadata": {},
   "source": [
    "#Working with Pandas Series"
   ]
  },
  {
   "cell_type": "code",
   "execution_count": 2,
   "metadata": {},
   "outputs": [
    {
     "name": "stdout",
     "output_type": "stream",
     "text": [
      "pandas version : 1.5.3\n"
     ]
    }
   ],
   "source": [
    "import pandas as pd\n",
    "import numpy as np\n",
    "print(f\"pandas version : {pd.__version__}\")"
   ]
  },
  {
   "cell_type": "markdown",
   "metadata": {},
   "source": [
    "#Creating Series"
   ]
  },
  {
   "cell_type": "code",
   "execution_count": 3,
   "metadata": {},
   "outputs": [
    {
     "data": {
      "text/plain": [
       "1    3\n",
       "2    4\n",
       "3    5\n",
       "4    6\n",
       "5    7\n",
       "dtype: int64"
      ]
     },
     "execution_count": 3,
     "metadata": {},
     "output_type": "execute_result"
    }
   ],
   "source": [
    "#series using list\n",
    "lst=[3,4,5,6,7]\n",
    "pd.Series(lst,index=[i for i in range(1,len(lst)+1)])"
   ]
  },
  {
   "cell_type": "code",
   "execution_count": 4,
   "metadata": {},
   "outputs": [
    {
     "name": "stdout",
     "output_type": "stream",
     "text": [
      "0    3\n",
      "1    4\n",
      "2    5\n",
      "3    6\n",
      "4    7\n",
      "dtype: int32\n"
     ]
    }
   ],
   "source": [
    "#series using numpy array\n",
    "data=pd.Series(np.array(lst))\n",
    "print(data)\n"
   ]
  },
  {
   "cell_type": "code",
   "execution_count": 5,
   "metadata": {},
   "outputs": [
    {
     "name": "stdout",
     "output_type": "stream",
     "text": [
      "{'day_1': 4000, 'day_2': 5000, 'day_3': 3000}\n"
     ]
    },
    {
     "data": {
      "text/plain": [
       "day_1    4000\n",
       "day_2    5000\n",
       "day_3    3000\n",
       "dtype: int64"
      ]
     },
     "execution_count": 5,
     "metadata": {},
     "output_type": "execute_result"
    }
   ],
   "source": [
    "#series using Dictionary\n",
    "run_km = {'day_1' : 4000 , 'day_2': 5000 ,'day_3':3000}\n",
    "print(run_km)\n",
    "pd.Series(run_km)"
   ]
  },
  {
   "cell_type": "code",
   "execution_count": 6,
   "metadata": {},
   "outputs": [
    {
     "name": "stdout",
     "output_type": "stream",
     "text": [
      "0    4\n",
      "0    4\n",
      "0    4\n",
      "0    4\n",
      "0    4\n",
      "0    4\n",
      "0    4\n",
      "0    4\n",
      "0    4\n",
      "0    4\n",
      "dtype: int64\n"
     ]
    }
   ],
   "source": [
    "#using repeat function along with creating a series\n",
    "#Pandas.Series.repeat() function repeats elements of a series.It returns a new series where each element of the current \n",
    "#series is repeated Consecutively a given number of times\n",
    "repeated_series=pd.Series(4).repeat(10)\n",
    "print(repeated_series)"
   ]
  },
  {
   "cell_type": "code",
   "execution_count": 7,
   "metadata": {},
   "outputs": [
    {
     "data": {
      "text/plain": [
       "0    3\n",
       "1    3\n",
       "2    3\n",
       "dtype: int64"
      ]
     },
     "execution_count": 7,
     "metadata": {},
     "output_type": "execute_result"
    }
   ],
   "source": [
    "#use reset function to change the index accurately\n",
    "pd.Series(3).repeat(3).reset_index(drop=True)"
   ]
  },
  {
   "cell_type": "code",
   "execution_count": 8,
   "metadata": {},
   "outputs": [],
   "source": [
    "#Code Indicates:\n",
    "#1) 10 should be repeated 5 times and\n",
    "#2) 20 should be repeated 2 times\n",
    "s = pd.Series([10,20]).repeat([5,2]).reset_index(drop=True)"
   ]
  },
  {
   "cell_type": "code",
   "execution_count": 9,
   "metadata": {},
   "outputs": [
    {
     "data": {
      "text/plain": [
       "0    10\n",
       "1    10\n",
       "2    10\n",
       "3    10\n",
       "4    10\n",
       "5    20\n",
       "6    20\n",
       "dtype: int64"
      ]
     },
     "execution_count": 9,
     "metadata": {},
     "output_type": "execute_result"
    }
   ],
   "source": [
    "s"
   ]
  },
  {
   "cell_type": "code",
   "execution_count": 10,
   "metadata": {},
   "outputs": [
    {
     "data": {
      "text/plain": [
       "0    10\n",
       "1    20\n",
       "2    30\n",
       "3     1\n",
       "4    34\n",
       "5    23\n",
       "6    21\n",
       "7    22\n",
       "8     1\n",
       "dtype: int64"
      ]
     },
     "execution_count": 10,
     "metadata": {},
     "output_type": "execute_result"
    }
   ],
   "source": [
    "lst=[10,20,30,1,34,23,21,22,1]\n",
    "a=pd.Series(lst).reset_index(drop=True)\n",
    "a"
   ]
  },
  {
   "cell_type": "code",
   "execution_count": 11,
   "metadata": {},
   "outputs": [
    {
     "data": {
      "text/plain": [
       "0    10\n",
       "1    10\n",
       "2    10\n",
       "3    10\n",
       "4    10\n",
       "5    20\n",
       "6    20\n",
       "dtype: int64"
      ]
     },
     "execution_count": 11,
     "metadata": {},
     "output_type": "execute_result"
    }
   ],
   "source": [
    "s"
   ]
  },
  {
   "cell_type": "code",
   "execution_count": 13,
   "metadata": {},
   "outputs": [
    {
     "name": "stdout",
     "output_type": "stream",
     "text": [
      "10\n",
      "------------------------------\n",
      "20\n",
      "------------------------------\n",
      "6    20\n",
      "5    20\n",
      "4    10\n",
      "3    10\n",
      "2    10\n",
      "1    10\n",
      "0    10\n",
      "dtype: int64\n",
      "------------------------------\n",
      "1    10\n",
      "2    10\n",
      "3    10\n",
      "4    10\n",
      "5    20\n",
      "6    20\n",
      "dtype: int64\n",
      "------------------------------\n",
      "6    20\n",
      "dtype: int64\n"
     ]
    }
   ],
   "source": [
    "#Accessing Element\n",
    "print(s[0])\n",
    "print(\"-\"*30)\n",
    "print(s[5])\n",
    "print(\"-\"*30)\n",
    "print(s[::-1])\n",
    "print(\"-\"*30)\n",
    "print(s[1:])\n",
    "print(\"-\"*30)\n",
    "print(s[-1:])"
   ]
  },
  {
   "cell_type": "code",
   "execution_count": 14,
   "metadata": {},
   "outputs": [
    {
     "data": {
      "text/plain": [
       "23    3\n",
       "6     4\n",
       "78    5\n",
       "54    6\n",
       "dtype: int64"
      ]
     },
     "execution_count": 14,
     "metadata": {},
     "output_type": "execute_result"
    }
   ],
   "source": [
    "b=pd.Series([3,4,5,6],index=[23,6,78,54])\n",
    "b"
   ]
  },
  {
   "cell_type": "code",
   "execution_count": 15,
   "metadata": {},
   "outputs": [
    {
     "data": {
      "text/plain": [
       "6     4\n",
       "78    5\n",
       "dtype: int64"
      ]
     },
     "execution_count": 15,
     "metadata": {},
     "output_type": "execute_result"
    }
   ],
   "source": [
    "b[1:3]"
   ]
  },
  {
   "cell_type": "code",
   "execution_count": 16,
   "metadata": {},
   "outputs": [
    {
     "data": {
      "text/plain": [
       "54    6\n",
       "dtype: int64"
      ]
     },
     "execution_count": 16,
     "metadata": {},
     "output_type": "execute_result"
    }
   ],
   "source": [
    "b[-1:]"
   ]
  },
  {
   "cell_type": "code",
   "execution_count": 17,
   "metadata": {},
   "outputs": [
    {
     "data": {
      "text/plain": [
       "54    6\n",
       "78    5\n",
       "6     4\n",
       "23    3\n",
       "dtype: int64"
      ]
     },
     "execution_count": 17,
     "metadata": {},
     "output_type": "execute_result"
    }
   ],
   "source": [
    "b[::-1]"
   ]
  },
  {
   "cell_type": "code",
   "execution_count": 18,
   "metadata": {},
   "outputs": [
    {
     "name": "stdout",
     "output_type": "stream",
     "text": [
      "count      8.000000\n",
      "mean     153.250000\n",
      "std      334.976225\n",
      "min        1.000000\n",
      "25%        4.250000\n",
      "50%       49.000000\n",
      "75%       67.250000\n",
      "max      979.000000\n",
      "dtype: float64\n",
      "------------------------------\n",
      "min       1\n",
      "max     979\n",
      "sum    1226\n",
      "dtype: int64\n"
     ]
    }
   ],
   "source": [
    "#Aggregate Function\n",
    "sr=pd.Series([1,2,5,64,77,44,979,54])\n",
    "print(sr.describe())\n",
    "print(\"-\"*30)\n",
    "print(sr.agg([min,max,sum]))"
   ]
  },
  {
   "cell_type": "code",
   "execution_count": 19,
   "metadata": {},
   "outputs": [
    {
     "data": {
      "text/plain": [
       "0      1\n",
       "1      2\n",
       "2      3\n",
       "3    332\n",
       "4     43\n",
       "5     22\n",
       "6     43\n",
       "dtype: int64"
      ]
     },
     "execution_count": 19,
     "metadata": {},
     "output_type": "execute_result"
    }
   ],
   "source": [
    "#Series absolute Function\n",
    "sr=pd.Series([1,-2,-3,332,-43,-22,43])\n",
    "sr.abs()"
   ]
  },
  {
   "cell_type": "code",
   "execution_count": 20,
   "metadata": {},
   "outputs": [],
   "source": [
    "#Appending Series\n",
    "sr1=pd.Series([1,34,676,43,88,-545,43,45])\n",
    "sr2=pd.Series([32,56,77,-22,-76,-54,-32,85])"
   ]
  },
  {
   "cell_type": "code",
   "execution_count": 21,
   "metadata": {},
   "outputs": [
    {
     "name": "stdout",
     "output_type": "stream",
     "text": [
      "0       1\n",
      "1      34\n",
      "2     676\n",
      "3      43\n",
      "4      88\n",
      "5    -545\n",
      "6      43\n",
      "7      45\n",
      "8      32\n",
      "9      56\n",
      "10     77\n",
      "11    -22\n",
      "12    -76\n",
      "13    -54\n",
      "14    -32\n",
      "15     85\n",
      "dtype: int64\n",
      "<class 'pandas.core.series.Series'>\n"
     ]
    },
    {
     "name": "stderr",
     "output_type": "stream",
     "text": [
      "C:\\Users\\Admin\\AppData\\Local\\Temp\\ipykernel_9184\\316150870.py:1: FutureWarning: The series.append method is deprecated and will be removed from pandas in a future version. Use pandas.concat instead.\n",
      "  s3=sr1.append(sr2,ignore_index=True)\n"
     ]
    }
   ],
   "source": [
    "s3=sr1.append(sr2,ignore_index=True)\n",
    "print(s3)\n",
    "print(type(s3))"
   ]
  },
  {
   "cell_type": "code",
   "execution_count": 23,
   "metadata": {},
   "outputs": [
    {
     "name": "stdout",
     "output_type": "stream",
     "text": [
      "0     32\n",
      "1     56\n",
      "2     77\n",
      "3    -22\n",
      "4    -76\n",
      "5    -54\n",
      "6    -32\n",
      "7     85\n",
      "0      1\n",
      "1     34\n",
      "2    676\n",
      "3     43\n",
      "4     88\n",
      "5   -545\n",
      "6     43\n",
      "7     45\n",
      "dtype: int64\n",
      "<class 'pandas.core.series.Series'>\n"
     ]
    },
    {
     "name": "stderr",
     "output_type": "stream",
     "text": [
      "C:\\Users\\Admin\\AppData\\Local\\Temp\\ipykernel_9184\\351453880.py:1: FutureWarning: The series.append method is deprecated and will be removed from pandas in a future version. Use pandas.concat instead.\n",
      "  sr4=sr2.append(sr1,ignore_index=False)\n"
     ]
    }
   ],
   "source": [
    "sr4=sr2.append(sr1,ignore_index=False)\n",
    "print(sr4)\n",
    "print(type(sr4))"
   ]
  },
  {
   "cell_type": "code",
   "execution_count": 24,
   "metadata": {},
   "outputs": [
    {
     "name": "stdout",
     "output_type": "stream",
     "text": [
      "<class 'numpy.int64'>\n",
      "<class 'str'>\n",
      "<class 'numpy.float64'>\n"
     ]
    }
   ],
   "source": [
    "#Astype function\n",
    "#Pandas \"astype()\" is one of the most important methods. It is used to change data type of a series. when dataframe is\n",
    "#from csv file, the columns are imported and data type is set automatically which many times is not what\n",
    "#it actually should have\n",
    "print(type(sr1[0]))\n",
    "print(type(sr1.astype(\"str\")[0]))\n",
    "print(type(sr1.astype(\"float\")[0]))"
   ]
  },
  {
   "cell_type": "code",
   "execution_count": 25,
   "metadata": {},
   "outputs": [
    {
     "data": {
      "text/plain": [
       "0      1\n",
       "1      2\n",
       "2      3\n",
       "3      4\n",
       "4     30\n",
       "5     55\n",
       "6     32\n",
       "7     87\n",
       "8     99\n",
       "9     43\n",
       "10     5\n",
       "11     6\n",
       "dtype: int64"
      ]
     },
     "execution_count": 25,
     "metadata": {},
     "output_type": "execute_result"
    }
   ],
   "source": [
    "#Between function :- used to check which values lie between first and second argument\n",
    "sr1=pd.Series([1,2,3,4,30,55,32,87,99,43,5,6])\n",
    "sr1"
   ]
  },
  {
   "cell_type": "code",
   "execution_count": 26,
   "metadata": {},
   "outputs": [
    {
     "data": {
      "text/plain": [
       "4    30\n",
       "6    32\n",
       "9    43\n",
       "dtype: int64"
      ]
     },
     "execution_count": 26,
     "metadata": {},
     "output_type": "execute_result"
    }
   ],
   "source": [
    "sr1[sr1.between(10,50)]"
   ]
  },
  {
   "cell_type": "markdown",
   "metadata": {},
   "source": [
    "# All Strings functions can be used to extracted or modify text in a series"
   ]
  },
  {
   "cell_type": "code",
   "execution_count": 52,
   "metadata": {},
   "outputs": [
    {
     "data": {
      "text/plain": [
       "0                John\n",
       "1                Jack\n",
       "2    Machine Learning\n",
       "3     Geeks for Geeks\n",
       "4        Data Science\n",
       "dtype: object"
      ]
     },
     "execution_count": 52,
     "metadata": {},
     "output_type": "execute_result"
    }
   ],
   "source": [
    "ser=pd.Series([\"John\",\"Jack\",\"Machine Learning\",\"Geeks for Geeks\",\"Data Science\"])\n",
    "ser"
   ]
  },
  {
   "cell_type": "code",
   "execution_count": 53,
   "metadata": {},
   "outputs": [
    {
     "name": "stdout",
     "output_type": "stream",
     "text": [
      "0                JOHN\n",
      "1                JACK\n",
      "2    MACHINE LEARNING\n",
      "3     GEEKS FOR GEEKS\n",
      "4        DATA SCIENCE\n",
      "dtype: object\n",
      "------------------------------\n",
      "0                john\n",
      "1                jack\n",
      "2    machine learning\n",
      "3     geeks for geeks\n",
      "4        data science\n",
      "dtype: object\n"
     ]
    }
   ],
   "source": [
    "#upper and Lower\n",
    "print(ser.str.upper())\n",
    "print(\"-\"*30)\n",
    "print(ser.str.lower())"
   ]
  },
  {
   "cell_type": "code",
   "execution_count": 54,
   "metadata": {},
   "outputs": [
    {
     "data": {
      "text/plain": [
       "0                John\n",
       "1                Jack\n",
       "2    Machine Learning\n",
       "3     Geeks for Geeks\n",
       "4        Data Science\n",
       "dtype: object"
      ]
     },
     "execution_count": 54,
     "metadata": {},
     "output_type": "execute_result"
    }
   ],
   "source": [
    "ser"
   ]
  },
  {
   "cell_type": "code",
   "execution_count": 56,
   "metadata": {},
   "outputs": [
    {
     "data": {
      "text/plain": [
       "0     4\n",
       "1     4\n",
       "2    16\n",
       "3    15\n",
       "4    12\n",
       "dtype: int64"
      ]
     },
     "execution_count": 56,
     "metadata": {},
     "output_type": "execute_result"
    }
   ],
   "source": [
    "#Length function\n",
    "ser.str.len()"
   ]
  },
  {
   "cell_type": "code",
   "execution_count": 57,
   "metadata": {},
   "outputs": [
    {
     "data": {
      "text/plain": [
       "0                John\n",
       "1                Jack\n",
       "2    Machine Learning\n",
       "3     Geeks for Geeks\n",
       "4        Data Science\n",
       "dtype: object"
      ]
     },
     "execution_count": 57,
     "metadata": {},
     "output_type": "execute_result"
    }
   ],
   "source": [
    "#Strip functions\n",
    "ser.str.strip()"
   ]
  },
  {
   "cell_type": "code",
   "execution_count": 58,
   "metadata": {},
   "outputs": [
    {
     "data": {
      "text/plain": [
       "0                 [John]\n",
       "1                 [Jack]\n",
       "2    [Machine, Learning]\n",
       "3    [Geeks, for, Geeks]\n",
       "4        [Data, Science]\n",
       "dtype: object"
      ]
     },
     "execution_count": 58,
     "metadata": {},
     "output_type": "execute_result"
    }
   ],
   "source": [
    "#Split functions\n",
    "ser.str.split()"
   ]
  },
  {
   "cell_type": "code",
   "execution_count": 59,
   "metadata": {},
   "outputs": [
    {
     "data": {
      "text/plain": [
       "'Learning'"
      ]
     },
     "execution_count": 59,
     "metadata": {},
     "output_type": "execute_result"
    }
   ],
   "source": [
    "ser.str.split()[2][1]"
   ]
  },
  {
   "cell_type": "code",
   "execution_count": 60,
   "metadata": {},
   "outputs": [
    {
     "data": {
      "text/plain": [
       "['L', 'e', 'a', 'r', 'n', 'i', 'n', 'g']"
      ]
     },
     "execution_count": 60,
     "metadata": {},
     "output_type": "execute_result"
    }
   ],
   "source": [
    "test=[i for i in ser.str.split()[2][1]]\n",
    "test"
   ]
  },
  {
   "cell_type": "code",
   "execution_count": 61,
   "metadata": {},
   "outputs": [
    {
     "data": {
      "text/plain": [
       "1     Hello@world\n",
       "3    Data@Science\n",
       "dtype: object"
      ]
     },
     "execution_count": 61,
     "metadata": {},
     "output_type": "execute_result"
    }
   ],
   "source": [
    "#contains function\n",
    "ser=pd.Series([\"Geeks for Geeks\",\"Hello@world\",\"Machine Learning\",\"Data@Science\"])\n",
    "ser[ser.str.contains(\"@\")]"
   ]
  },
  {
   "cell_type": "code",
   "execution_count": 62,
   "metadata": {},
   "outputs": [
    {
     "data": {
      "text/plain": [
       "0     Geeks for Geeks\n",
       "1         Hello world\n",
       "2    Machine Learning\n",
       "3        Data Science\n",
       "dtype: object"
      ]
     },
     "execution_count": 62,
     "metadata": {},
     "output_type": "execute_result"
    }
   ],
   "source": [
    "#Replace function\n",
    "ser.str.replace(\"@\",\" \")"
   ]
  },
  {
   "cell_type": "code",
   "execution_count": 65,
   "metadata": {},
   "outputs": [
    {
     "data": {
      "text/plain": [
       "0    4\n",
       "1    1\n",
       "2    2\n",
       "3    2\n",
       "dtype: int64"
      ]
     },
     "execution_count": 65,
     "metadata": {},
     "output_type": "execute_result"
    }
   ],
   "source": [
    "#Count function\n",
    "ser.str.count('e')"
   ]
  },
  {
   "cell_type": "code",
   "execution_count": 66,
   "metadata": {},
   "outputs": [
    {
     "data": {
      "text/plain": [
       "0     Geeks for Geeks\n",
       "1         Hello@world\n",
       "2    Machine Learning\n",
       "3        Data@Science\n",
       "dtype: object"
      ]
     },
     "execution_count": 66,
     "metadata": {},
     "output_type": "execute_result"
    }
   ],
   "source": [
    "ser"
   ]
  },
  {
   "cell_type": "code",
   "execution_count": 72,
   "metadata": {},
   "outputs": [
    {
     "name": "stdout",
     "output_type": "stream",
     "text": [
      "0    Geeks for Geeks\n",
      "dtype: object\n",
      "3    Data@Science\n",
      "dtype: object\n"
     ]
    }
   ],
   "source": [
    "#startswith and endswith\n",
    "print(ser[ser.str.startswith(\"Geeks\")])\n",
    "print(ser[ser.str.endswith(\"Science\")])"
   ]
  },
  {
   "cell_type": "code",
   "execution_count": 77,
   "metadata": {},
   "outputs": [
    {
     "name": "stdout",
     "output_type": "stream",
     "text": [
      "0     Geeks for Geeks\n",
      "1         Hello@world\n",
      "2    Machine Learning\n",
      "3        Data@Science\n",
      "dtype: object\n"
     ]
    },
    {
     "data": {
      "text/plain": [
       "0   -1\n",
       "1   -1\n",
       "2    0\n",
       "3   -1\n",
       "dtype: int64"
      ]
     },
     "execution_count": 77,
     "metadata": {},
     "output_type": "execute_result"
    }
   ],
   "source": [
    "#Find Function\n",
    "print(ser)\n",
    "ser.str.find(\"Machine\")"
   ]
  },
  {
   "cell_type": "code",
   "execution_count": 81,
   "metadata": {},
   "outputs": [
    {
     "name": "stdout",
     "output_type": "stream",
     "text": [
      "<class 'pandas.core.series.Series'>\n",
      "['Geeks for Geeks', 'Hello@world', 'Machine Learning', 'Data@Science']\n",
      "<class 'list'>\n"
     ]
    }
   ],
   "source": [
    "#How to convert a series into a list\n",
    "print(type(ser))\n",
    "ser=ser.to_list()\n",
    "print(ser)\n",
    "print(type(ser))"
   ]
  },
  {
   "cell_type": "code",
   "execution_count": null,
   "metadata": {},
   "outputs": [],
   "source": []
  },
  {
   "cell_type": "code",
   "execution_count": null,
   "metadata": {},
   "outputs": [],
   "source": []
  }
 ],
 "metadata": {
  "kernelspec": {
   "display_name": "Python 3",
   "language": "python",
   "name": "python3"
  },
  "language_info": {
   "codemirror_mode": {
    "name": "ipython",
    "version": 3
   },
   "file_extension": ".py",
   "mimetype": "text/x-python",
   "name": "python",
   "nbconvert_exporter": "python",
   "pygments_lexer": "ipython3",
   "version": "3.8.10"
  }
 },
 "nbformat": 4,
 "nbformat_minor": 2
}
