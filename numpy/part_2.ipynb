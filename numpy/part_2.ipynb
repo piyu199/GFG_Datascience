{
 "cells": [
  {
   "cell_type": "markdown",
   "metadata": {},
   "source": [
    "## Reshape and Random number Generator"
   ]
  },
  {
   "cell_type": "code",
   "execution_count": 1,
   "metadata": {},
   "outputs": [],
   "source": [
    "import numpy as np\n",
    "a=np.array([[1,2,3,4],[5,6,7,8]])"
   ]
  },
  {
   "cell_type": "code",
   "execution_count": 3,
   "metadata": {},
   "outputs": [
    {
     "data": {
      "text/plain": [
       "2"
      ]
     },
     "execution_count": 3,
     "metadata": {},
     "output_type": "execute_result"
    }
   ],
   "source": [
    "a.ndim"
   ]
  },
  {
   "cell_type": "code",
   "execution_count": 5,
   "metadata": {},
   "outputs": [],
   "source": [
    "##Generate a Random Numbers"
   ]
  },
  {
   "cell_type": "code",
   "execution_count": 27,
   "metadata": {},
   "outputs": [
    {
     "data": {
      "text/plain": [
       "array([[0.39549606, 0.2163898 , 0.94357395],\n",
       "       [0.66233299, 0.65926919, 0.44771754],\n",
       "       [0.68323194, 0.79319593, 0.05224586]])"
      ]
     },
     "execution_count": 27,
     "metadata": {},
     "output_type": "execute_result"
    }
   ],
   "source": [
    "arr1=np.random.random((3,3))\n",
    "arr1"
   ]
  },
  {
   "cell_type": "code",
   "execution_count": 28,
   "metadata": {},
   "outputs": [
    {
     "data": {
      "text/plain": [
       "0.47836776866833874"
      ]
     },
     "execution_count": 28,
     "metadata": {},
     "output_type": "execute_result"
    }
   ],
   "source": [
    "np.random.random()"
   ]
  },
  {
   "cell_type": "code",
   "execution_count": 29,
   "metadata": {},
   "outputs": [
    {
     "name": "stdout",
     "output_type": "stream",
     "text": [
      "Run the Function\n"
     ]
    }
   ],
   "source": [
    "if np.random.random() > 0.5:\n",
    "    print(\"Run the Function\")\n",
    "else:\n",
    "    print(\"Don't run the function\")"
   ]
  },
  {
   "cell_type": "code",
   "execution_count": 30,
   "metadata": {},
   "outputs": [
    {
     "data": {
      "text/plain": [
       "array([ 1,  2,  3,  4,  5,  6,  7,  8,  9, 10])"
      ]
     },
     "execution_count": 30,
     "metadata": {},
     "output_type": "execute_result"
    }
   ],
   "source": [
    "##Generate a number in particular sequence\n",
    "np.arange(1,11)"
   ]
  },
  {
   "cell_type": "code",
   "execution_count": 31,
   "metadata": {},
   "outputs": [
    {
     "data": {
      "text/plain": [
       "array([ 1.        ,  1.26470588,  1.52941176,  1.79411765,  2.05882353,\n",
       "        2.32352941,  2.58823529,  2.85294118,  3.11764706,  3.38235294,\n",
       "        3.64705882,  3.91176471,  4.17647059,  4.44117647,  4.70588235,\n",
       "        4.97058824,  5.23529412,  5.5       ,  5.76470588,  6.02941176,\n",
       "        6.29411765,  6.55882353,  6.82352941,  7.08823529,  7.35294118,\n",
       "        7.61764706,  7.88235294,  8.14705882,  8.41176471,  8.67647059,\n",
       "        8.94117647,  9.20588235,  9.47058824,  9.73529412, 10.        ])"
      ]
     },
     "execution_count": 31,
     "metadata": {},
     "output_type": "execute_result"
    }
   ],
   "source": [
    "np.linspace(1,10,35)"
   ]
  },
  {
   "cell_type": "code",
   "execution_count": 33,
   "metadata": {},
   "outputs": [
    {
     "data": {
      "text/plain": [
       "array([[0.17501323, 0.8591286 , 0.89317522],\n",
       "       [0.24140568, 0.13806344, 0.20855007],\n",
       "       [0.42206829, 0.82424825, 0.8818906 ],\n",
       "       [0.17154542, 0.85851845, 0.43757937]])"
      ]
     },
     "execution_count": 33,
     "metadata": {},
     "output_type": "execute_result"
    }
   ],
   "source": [
    "## Reshape\n",
    "arr2=np.random.random((4,3))\n",
    "arr2"
   ]
  },
  {
   "cell_type": "code",
   "execution_count": 37,
   "metadata": {},
   "outputs": [
    {
     "data": {
      "text/plain": [
       "array([[0.17501323, 0.8591286 , 0.89317522, 0.24140568],\n",
       "       [0.13806344, 0.20855007, 0.42206829, 0.82424825],\n",
       "       [0.8818906 , 0.17154542, 0.85851845, 0.43757937]])"
      ]
     },
     "execution_count": 37,
     "metadata": {},
     "output_type": "execute_result"
    }
   ],
   "source": [
    "arr2=np.reshape(arr2,(3,4))\n",
    "arr2"
   ]
  },
  {
   "cell_type": "code",
   "execution_count": 38,
   "metadata": {},
   "outputs": [
    {
     "data": {
      "text/plain": [
       "array([[0.17501323, 0.8591286 , 0.89317522, 0.24140568, 0.13806344,\n",
       "        0.20855007],\n",
       "       [0.42206829, 0.82424825, 0.8818906 , 0.17154542, 0.85851845,\n",
       "        0.43757937]])"
      ]
     },
     "execution_count": 38,
     "metadata": {},
     "output_type": "execute_result"
    }
   ],
   "source": [
    "arr2=np.reshape(arr2,(2,6))\n",
    "arr2"
   ]
  },
  {
   "cell_type": "code",
   "execution_count": 43,
   "metadata": {},
   "outputs": [
    {
     "data": {
      "text/plain": [
       "array([[[0, 1],\n",
       "        [2, 3]],\n",
       "\n",
       "       [[4, 5],\n",
       "        [6, 7]]])"
      ]
     },
     "execution_count": 43,
     "metadata": {},
     "output_type": "execute_result"
    }
   ],
   "source": [
    "arr3=np.arange(8).reshape(2,2,2)\n",
    "arr3"
   ]
  },
  {
   "cell_type": "code",
   "execution_count": 39,
   "metadata": {},
   "outputs": [
    {
     "data": {
      "text/plain": [
       "array([0.17501323, 0.8591286 , 0.89317522, 0.24140568, 0.13806344,\n",
       "       0.20855007, 0.42206829, 0.82424825, 0.8818906 , 0.17154542,\n",
       "       0.85851845, 0.43757937])"
      ]
     },
     "execution_count": 39,
     "metadata": {},
     "output_type": "execute_result"
    }
   ],
   "source": [
    "arr2.flatten()"
   ]
  },
  {
   "cell_type": "code",
   "execution_count": 44,
   "metadata": {},
   "outputs": [
    {
     "name": "stdout",
     "output_type": "stream",
     "text": [
      "After flattering : [1 2 3 4 5 6 7 8]\n",
      "After flattering : [ 5 67  7  6 87 89]\n"
     ]
    }
   ],
   "source": [
    "a1=np.array([[1,2,3,4],[5,6,7,8]])\n",
    "a2=np.array([[5,67,7],[6,87,89]])\n",
    "print(f\"After flattering : {a1.flatten()}\")\n",
    "print(f\"After flattering : {a2.flatten()}\")"
   ]
  },
  {
   "cell_type": "code",
   "execution_count": null,
   "metadata": {},
   "outputs": [],
   "source": []
  }
 ],
 "metadata": {
  "kernelspec": {
   "display_name": "Python 3",
   "language": "python",
   "name": "python3"
  },
  "language_info": {
   "codemirror_mode": {
    "name": "ipython",
    "version": 3
   },
   "file_extension": ".py",
   "mimetype": "text/x-python",
   "name": "python",
   "nbconvert_exporter": "python",
   "pygments_lexer": "ipython3",
   "version": "3.8.10"
  }
 },
 "nbformat": 4,
 "nbformat_minor": 2
}
