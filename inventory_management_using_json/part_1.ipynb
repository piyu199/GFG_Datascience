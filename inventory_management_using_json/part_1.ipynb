{
 "cells": [
  {
   "cell_type": "markdown",
   "metadata": {},
   "source": [
    "##Generate a Bill"
   ]
  },
  {
   "cell_type": "code",
   "execution_count": 15,
   "metadata": {},
   "outputs": [
    {
     "name": "stdout",
     "output_type": "stream",
     "text": [
      "-----------------MENU-----------------\n",
      "\n",
      "1001 : 5 Star|100|70\n",
      "1002 : Dairy Milk|500|80\n",
      "1003 : Perk|80|40\n",
      "1004 : Choclate Cake|85|10\n",
      "1005 : Strawberry Cake|30|60\n",
      "-----------------MENU------------------\n",
      "\n",
      "Name of the product: Choclate Cake\n",
      "Price of the product (Rs) : 85\n",
      "No of quantity :10\n",
      "------------Bill-----------------\n",
      "Billing Amount:850\n"
     ]
    }
   ],
   "source": [
    "import json\n",
    "\n",
    "fd=open(r\"Records.json\",\"r\")\n",
    "js=fd.read()\n",
    "fd.close()\n",
    "record=json.loads(js)\n",
    "\n",
    "print(\"-----------------MENU-----------------\\n\")\n",
    "for key in record.keys():\n",
    "    print(f\"{key} : {record[key]['Name']}|{record[key]['price']}|{record[key]['Qn']}\")\n",
    "print(\"-----------------MENU------------------\\n\")\n",
    "\n",
    "ui_pr_id=input(\"Enter the product ID of your choice:\")\n",
    "ui_pr_qn=int(input(\"Enter the quantity of product:\"))\n",
    "\n",
    "\n",
    "try:\n",
    "    print(f\"Name of the product: {record[ui_pr_id]['Name']}\")\n",
    "    print(f\"Price of the product (Rs) : {record[ui_pr_id]['price']}\")\n",
    "    print(f\"No of quantity :{ui_pr_qn}\")\n",
    "    print(\"------------Bill-----------------\")\n",
    "    print(f\"Billing Amount:{record[ui_pr_id]['price']*ui_pr_qn}\")\n",
    "    record[ui_pr_id][\"Qn\"] -= ui_pr_qn\n",
    "    js=json.dumps(record)\n",
    "    fd=open(\"Records.json\",\"w\")\n",
    "    fd.write(js)\n",
    "    fd.close()\n",
    "except Exception as e:\n",
    "    print(\"Record not found\")\n"
   ]
  },
  {
   "cell_type": "code",
   "execution_count": 16,
   "metadata": {},
   "outputs": [],
   "source": [
    "fd=open(r\"Records.json\",\"r\")\n",
    "record=fd.read()\n",
    "fd.close()"
   ]
  },
  {
   "cell_type": "code",
   "execution_count": 17,
   "metadata": {},
   "outputs": [
    {
     "data": {
      "text/plain": [
       "{'1001': {'Name': '5 Star', 'price': 100, 'Qn': 70},\n",
       " '1002': {'Name': 'Dairy Milk', 'price': 500, 'Qn': 80},\n",
       " '1003': {'Name': 'Perk', 'price': 80, 'Qn': 40},\n",
       " '1004': {'Name': 'Choclate Cake', 'price': 85, 'Qn': 0},\n",
       " '1005': {'Name': 'Strawberry Cake', 'price': 30, 'Qn': 60}}"
      ]
     },
     "execution_count": 17,
     "metadata": {},
     "output_type": "execute_result"
    }
   ],
   "source": [
    "json.loads(record)"
   ]
  },
  {
   "cell_type": "code",
   "execution_count": null,
   "metadata": {},
   "outputs": [],
   "source": []
  }
 ],
 "metadata": {
  "kernelspec": {
   "display_name": "Python 3",
   "language": "python",
   "name": "python3"
  },
  "language_info": {
   "codemirror_mode": {
    "name": "ipython",
    "version": 3
   },
   "file_extension": ".py",
   "mimetype": "text/x-python",
   "name": "python",
   "nbconvert_exporter": "python",
   "pygments_lexer": "ipython3",
   "version": "3.8.10"
  }
 },
 "nbformat": 4,
 "nbformat_minor": 2
}
