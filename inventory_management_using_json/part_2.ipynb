{
 "cells": [
  {
   "cell_type": "code",
   "execution_count": 1,
   "metadata": {},
   "outputs": [],
   "source": [
    "import json\n",
    "\n",
    "fd=open(\"Records.json\",\"r\")\n",
    "js=fd.read()\n",
    "fd.close()"
   ]
  },
  {
   "cell_type": "code",
   "execution_count": 2,
   "metadata": {},
   "outputs": [
    {
     "data": {
      "text/plain": [
       "{'1001': {'Name': '5 Star', 'price': 100, 'Qn': 62},\n",
       " '1002': {'Name': 'Dairy Milk', 'price': 500, 'Qn': 73},\n",
       " '1003': {'Name': 'Perk', 'price': 80, 'Qn': 39},\n",
       " '1004': {'Name': 'Choclate Cake', 'price': 85, 'Qn': 50},\n",
       " '1005': {'Name': 'Strawberry Cake', 'price': 30, 'Qn': 60}}"
      ]
     },
     "execution_count": 2,
     "metadata": {},
     "output_type": "execute_result"
    }
   ],
   "source": [
    "records=json.loads(js)\n",
    "records"
   ]
  },
  {
   "cell_type": "code",
   "execution_count": 13,
   "metadata": {},
   "outputs": [
    {
     "name": "stdout",
     "output_type": "stream",
     "text": [
      "-----------------MENU-----------------\n",
      "\n",
      "1001 : 5 Star|100|44\n",
      "1002 : Dairy Milk|500|73\n",
      "1003 : Perk|80|39\n",
      "1004 : Choclate Cake|85|50\n",
      "1005 : Strawberry Cake|30|60\n",
      "-----------------MENU------------------\n",
      "\n"
     ]
    },
    {
     "name": "stdout",
     "output_type": "stream",
     "text": [
      "Name of the product: Choclate Cake\n",
      "Price of the product (Rs) : 85\n",
      "No of quantity :30\n",
      "------------Bill-----------------\n",
      "Billing Amount:2550\n",
      "----------------------------------------\n",
      "Thanks for Purchasing. Visit Again\n",
      "----------------------------------------\n"
     ]
    }
   ],
   "source": [
    "import json\n",
    "import time\n",
    "\n",
    "fd=open(r\"Records.json\",\"r\")\n",
    "js=fd.read()\n",
    "fd.close()\n",
    "record=json.loads(js)\n",
    "\n",
    "print(\"-----------------MENU-----------------\\n\")\n",
    "for key in record.keys():\n",
    "    print(f\"{key} : {record[key]['Name']}|{record[key]['price']}|{record[key]['Qn']}\")\n",
    "print(\"-----------------MENU------------------\\n\")\n",
    "\n",
    "ui_pr_id=input(\"Enter the product ID of your choice:\")\n",
    "ui_pr_qn=int(input(\"Enter the quantity of product:\"))\n",
    "ui_name=input(\"Enter your name:\")\n",
    "ui_mail_id=input(\"Enter your mail id:\")\n",
    "ui_phone_number=input(\"Enter you phone number:\")\n",
    "\n",
    "try:\n",
    "    if ui_pr_qn <= record[ui_pr_id][\"Qn\"]:\n",
    "        print(f\"Name of the product: {record[ui_pr_id]['Name']}\")\n",
    "        print(f\"Price of the product (Rs) : {record[ui_pr_id]['price']}\")\n",
    "        print(f\"No of quantity :{ui_pr_qn}\")\n",
    "    \n",
    "        print(\"------------Bill-----------------\")\n",
    "        print(f\"Billing Amount:{record[ui_pr_id]['price']*ui_pr_qn}\")\n",
    "        record[ui_pr_id][\"Qn\"] -= ui_pr_qn\n",
    "        js=json.dumps(record)\n",
    "        fd=open(\"Records.json\",\"w\")\n",
    "        fd.write(js)\n",
    "        fd.close()\n",
    "        fw=open(\"Sales.txt\",\"a\")\n",
    "        sales=ui_pr_id+\",\"+ui_name+\",\"+ui_mail_id+\",\"+ui_phone_number+\",\"+record[ui_pr_id][\"Name\"]+\",\"+str(ui_pr_qn)+\",\"+str(record[ui_pr_id][\"price\"])+\",\"+str(record[ui_pr_id][\"price\"]*ui_pr_qn)+\",\"+time.ctime()+\"\\n\"\n",
    "        fw.write(sales)\n",
    "        fw.close()\n",
    "        print(\"-\"*40)\n",
    "        print(\"Thanks for Purchasing. Visit Again\")\n",
    "        print(\"-\"*40)\n",
    "    else:\n",
    "        print(\"Sorry we are not having enough quantity.\")\n",
    "        print(f\"We are having {record[ui_pr_id]['Qn']} quantity of {record[ui_pr_id]['Name']} \")\n",
    "        choice=input(\"Press Y/y to purchase:\").lower()\n",
    "        if choice == \"y\":\n",
    "            print(f\"Name of the product: {record[ui_pr_id]['Name']}\")\n",
    "            print(f\"Price of the product (Rs) : {record[ui_pr_id]['price']}\")\n",
    "            print(f\"No of quantity :{record[ui_pr_id]['Qn']}\")\n",
    "            print(\"------------Bill-----------------\")\n",
    "            print(f\"Billing Amount:{record[ui_pr_id]['price'] * record[ui_pr_id]['Qn']}\")\n",
    "            record[ui_pr_id][\"Qn\"] -= record[ui_pr_id][\"Qn\"]\n",
    "            js=json.dumps(record)\n",
    "            fd=open(\"Records.json\",\"w\")\n",
    "            fd.write(js)\n",
    "            fd.close()\n",
    "            fw=open(\"Sales.txt\",\"a\")\n",
    "            sales=ui_pr_id+\",\"+ui_name+\",\"+ui_mail_id+\",\"+ui_phone_number+\",\"+record[ui_pr_id][\"Name\"]+\",\"+str(record[ui_pr_id][\"Qn\"])+\",\"+str(record[ui_pr_id][\"price\"])+\",\"+str(record[ui_pr_id][\"price\"]*record[ui_pr_id][\"Qn\"])+\",\"+time.ctime()+\"\\n\"\n",
    "            fw.write(sales)\n",
    "            fw.close()\n",
    "            print(\"-\"*40)\n",
    "            print(\"Thanks for Purchasing. Visit Again\")\n",
    "            print(\"-\"*40)\n",
    "        else:\n",
    "            print(\"-\"*40)\n",
    "            print(\"Thanks for Purchasing. Visit Again\")\n",
    "            print(\"-\"*40) \n",
    "except Exception as e:\n",
    "    print(\"Record not found\")\n"
   ]
  },
  {
   "cell_type": "code",
   "execution_count": 14,
   "metadata": {},
   "outputs": [
    {
     "data": {
      "text/plain": [
       "'1004,john,hohn@example.com,9987456321,Choclate Cake,30,85,2550,Sat Feb 17 15:48:08 2024\\n'"
      ]
     },
     "execution_count": 14,
     "metadata": {},
     "output_type": "execute_result"
    }
   ],
   "source": [
    "sales"
   ]
  },
  {
   "cell_type": "code",
   "execution_count": null,
   "metadata": {},
   "outputs": [],
   "source": [
    "import time\n",
    "sales=ui_pr_id+\",\"+ui_name+\",\"+ui_mail_id+\",\"+ui_phone_number+\",\"+record[ui_pr_id][\"Name\"]+\",\"+str(record[ui_pr_id][\"Qn\"])+\",\"+str(record[ui_pr_id][\"price\"])+\",\"+time.ctime()"
   ]
  }
 ],
 "metadata": {
  "kernelspec": {
   "display_name": "Python 3",
   "language": "python",
   "name": "python3"
  },
  "language_info": {
   "codemirror_mode": {
    "name": "ipython",
    "version": 3
   },
   "file_extension": ".py",
   "mimetype": "text/x-python",
   "name": "python",
   "nbconvert_exporter": "python",
   "pygments_lexer": "ipython3",
   "version": "3.8.10"
  }
 },
 "nbformat": 4,
 "nbformat_minor": 2
}
