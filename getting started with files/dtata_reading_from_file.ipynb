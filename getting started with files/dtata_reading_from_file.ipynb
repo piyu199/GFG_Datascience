{
 "cells": [
  {
   "cell_type": "code",
   "execution_count": 1,
   "metadata": {},
   "outputs": [
    {
     "name": "stdout",
     "output_type": "stream",
     "text": [
      "Hello Everyone!\n",
      "\n",
      "Jai Swaminarayan Das na Das\n",
      "\n",
      "Hustle and workhard and pray harder ...swamiji is always with us.\n",
      "\n",
      "Purna malya che na kem thai!\n",
      "\n",
      "Data science is an interdisciplinary academic field[1] that uses statistics, scientific computing, scientific methods, processes, algorithms and systems to extract or extrapolate knowledge and insights from potentially noisy, structured, or unstructured data.[2]\n",
      "\n",
      "Data science also integrates domain knowledge from the underlying application domain (e.g., natural sciences, information technology, and medicine).[3] Data science is multifaceted and can be described as a science, a research paradigm, a research method, a discipline, a workflow, and a profession.[4]\n",
      "\n",
      "Data science is a \"concept to unify statistics, data analysis, informatics, and their related methods\" to \"understand and analyze actual phenomena\" with data.[5] It uses techniques and theories drawn from many fields within the context of mathematics, statistics, computer science, information science, and domain knowledge.[6] However, data science is different from computer science and information science. Turing Award winner Jim Gray imagined data science as a \"fourth paradigm\" of science (empirical, theoretical, computational, and now data-driven) and asserted that \"everything about science is changing because of the impact of information technology\" and the data deluge.[7][8]\n"
     ]
    }
   ],
   "source": [
    "try:\n",
    "    file_data=open(\"data.txt\",\"r\")\n",
    "    txt=file_data.read()\n",
    "    print(txt)\n",
    "    file_data.close()\n",
    "except Exception as e:\n",
    "    print(e)"
   ]
  },
  {
   "cell_type": "code",
   "execution_count": 2,
   "metadata": {},
   "outputs": [
    {
     "data": {
      "text/plain": [
       "'Hello Everyone!\\n\\nJai Swaminarayan Das na Das\\n\\nHustle and workhard and pray harder ...swamiji is always with us.\\n\\nPurna malya che na kem thai!\\n\\nData science is an interdisciplinary academic field[1] that uses statistics, scientific computing, scientific methods, processes, algorithms and systems to extract or extrapolate knowledge and insights from potentially noisy, structured, or unstructured data.[2]\\n\\nData science also integrates domain knowledge from the underlying application domain (e.g., natural sciences, information technology, and medicine).[3] Data science is multifaceted and can be described as a science, a research paradigm, a research method, a discipline, a workflow, and a profession.[4]\\n\\nData science is a \"concept to unify statistics, data analysis, informatics, and their related methods\" to \"understand and analyze actual phenomena\" with data.[5] It uses techniques and theories drawn from many fields within the context of mathematics, statistics, computer science, information science, and domain knowledge.[6] However, data science is different from computer science and information science. Turing Award winner Jim Gray imagined data science as a \"fourth paradigm\" of science (empirical, theoretical, computational, and now data-driven) and asserted that \"everything about science is changing because of the impact of information technology\" and the data deluge.[7][8]'"
      ]
     },
     "execution_count": 2,
     "metadata": {},
     "output_type": "execute_result"
    }
   ],
   "source": [
    "txt"
   ]
  },
  {
   "cell_type": "code",
   "execution_count": 3,
   "metadata": {},
   "outputs": [
    {
     "name": "stdout",
     "output_type": "stream",
     "text": [
      "[Errno 2] No such file or directory: 'data2.txt'\n"
     ]
    }
   ],
   "source": [
    "try:\n",
    "    file_data=open(\"data2.txt\",\"r\")\n",
    "    txt=file_data.read()\n",
    "    print(txt)\n",
    "    file_data.close()\n",
    "except Exception as e:\n",
    "    print(e)"
   ]
  },
  {
   "cell_type": "code",
   "execution_count": 4,
   "metadata": {},
   "outputs": [],
   "source": [
    "txt=txt.replace(\"\\n\\n\",\" \")"
   ]
  },
  {
   "cell_type": "code",
   "execution_count": 5,
   "metadata": {},
   "outputs": [
    {
     "data": {
      "text/plain": [
       "'Hello Everyone! Jai Swaminarayan Das na Das Hustle and workhard and pray harder ...swamiji is always with us. Purna malya che na kem thai! Data science is an interdisciplinary academic field[1] that uses statistics, scientific computing, scientific methods, processes, algorithms and systems to extract or extrapolate knowledge and insights from potentially noisy, structured, or unstructured data.[2] Data science also integrates domain knowledge from the underlying application domain (e.g., natural sciences, information technology, and medicine).[3] Data science is multifaceted and can be described as a science, a research paradigm, a research method, a discipline, a workflow, and a profession.[4] Data science is a \"concept to unify statistics, data analysis, informatics, and their related methods\" to \"understand and analyze actual phenomena\" with data.[5] It uses techniques and theories drawn from many fields within the context of mathematics, statistics, computer science, information science, and domain knowledge.[6] However, data science is different from computer science and information science. Turing Award winner Jim Gray imagined data science as a \"fourth paradigm\" of science (empirical, theoretical, computational, and now data-driven) and asserted that \"everything about science is changing because of the impact of information technology\" and the data deluge.[7][8]'"
      ]
     },
     "execution_count": 5,
     "metadata": {},
     "output_type": "execute_result"
    }
   ],
   "source": [
    "txt"
   ]
  },
  {
   "cell_type": "markdown",
   "metadata": {},
   "source": [
    "Text Preprocessing"
   ]
  },
  {
   "cell_type": "code",
   "execution_count": 6,
   "metadata": {},
   "outputs": [],
   "source": [
    "txt2=open(\"data.txt\",\"r\")\n",
    "txt3=txt2.read()"
   ]
  },
  {
   "cell_type": "code",
   "execution_count": 7,
   "metadata": {},
   "outputs": [
    {
     "data": {
      "text/plain": [
       "7"
      ]
     },
     "execution_count": 7,
     "metadata": {},
     "output_type": "execute_result"
    }
   ],
   "source": [
    "per=txt3.split(\"\\n\\n\")\n",
    "len(per)"
   ]
  },
  {
   "cell_type": "code",
   "execution_count": 8,
   "metadata": {},
   "outputs": [
    {
     "name": "stdout",
     "output_type": "stream",
     "text": [
      "Hello Everyone!\n",
      "Jai Swaminarayan Das na Das\n",
      "Hustle and workhard and pray harder ...swamiji is always with us.\n",
      "Purna malya che na kem thai!\n",
      "Data science is an interdisciplinary academic field[1] that uses statistics, scientific computing, scientific methods, processes, algorithms and systems to extract or extrapolate knowledge and insights from potentially noisy, structured, or unstructured data.[2]\n",
      "Data science also integrates domain knowledge from the underlying application domain (e.g., natural sciences, information technology, and medicine).[3] Data science is multifaceted and can be described as a science, a research paradigm, a research method, a discipline, a workflow, and a profession.[4]\n",
      "Data science is a \"concept to unify statistics, data analysis, informatics, and their related methods\" to \"understand and analyze actual phenomena\" with data.[5] It uses techniques and theories drawn from many fields within the context of mathematics, statistics, computer science, information science, and domain knowledge.[6] However, data science is different from computer science and information science. Turing Award winner Jim Gray imagined data science as a \"fourth paradigm\" of science (empirical, theoretical, computational, and now data-driven) and asserted that \"everything about science is changing because of the impact of information technology\" and the data deluge.[7][8]\n"
     ]
    }
   ],
   "source": [
    "for i in per:\n",
    "    print(i)"
   ]
  },
  {
   "cell_type": "markdown",
   "metadata": {},
   "source": [
    "##LINES"
   ]
  },
  {
   "cell_type": "code",
   "execution_count": 12,
   "metadata": {},
   "outputs": [],
   "source": [
    "lines=txt.split(\".\")"
   ]
  },
  {
   "cell_type": "code",
   "execution_count": 13,
   "metadata": {},
   "outputs": [
    {
     "data": {
      "text/plain": [
       "14"
      ]
     },
     "execution_count": 13,
     "metadata": {},
     "output_type": "execute_result"
    }
   ],
   "source": [
    "len(lines)"
   ]
  },
  {
   "cell_type": "code",
   "execution_count": 14,
   "metadata": {},
   "outputs": [
    {
     "data": {
      "text/plain": [
       "'[7][8]'"
      ]
     },
     "execution_count": 14,
     "metadata": {},
     "output_type": "execute_result"
    }
   ],
   "source": [
    "lines[-1]"
   ]
  },
  {
   "cell_type": "code",
   "execution_count": 22,
   "metadata": {},
   "outputs": [
    {
     "name": "stdout",
     "output_type": "stream",
     "text": [
      "[]\n"
     ]
    }
   ],
   "source": [
    "txt4=open(\"data.txt\",\"r\")\n",
    "data=txt4.read()\n",
    "lines2=txt4.readlines()\n",
    "print(lines2)"
   ]
  },
  {
   "cell_type": "code",
   "execution_count": 23,
   "metadata": {},
   "outputs": [
    {
     "name": "stdout",
     "output_type": "stream",
     "text": [
      "0\n"
     ]
    }
   ],
   "source": [
    "print(len(lines2))"
   ]
  },
  {
   "cell_type": "code",
   "execution_count": 25,
   "metadata": {},
   "outputs": [
    {
     "name": "stdout",
     "output_type": "stream",
     "text": [
      "['Hello', 'Everyone!\\n\\nJai', 'Swaminarayan', 'Das', 'na', 'Das\\n\\nHustle', 'and', 'workhard', 'and', 'pray', 'harder', '...swamiji', 'is', 'always', 'with', 'us.\\n\\nPurna', 'malya', 'che', 'na', 'kem', 'thai!\\n\\nData', 'science', 'is', 'an', 'interdisciplinary', 'academic', 'field[1]', 'that', 'uses', 'statistics,', 'scientific', 'computing,', 'scientific', 'methods,', 'processes,', 'algorithms', 'and', 'systems', 'to', 'extract', 'or', 'extrapolate', 'knowledge', 'and', 'insights', 'from', 'potentially', 'noisy,', 'structured,', 'or', 'unstructured', 'data.[2]\\n\\nData', 'science', 'also', 'integrates', 'domain', 'knowledge', 'from', 'the', 'underlying', 'application', 'domain', '(e.g.,', 'natural', 'sciences,', 'information', 'technology,', 'and', 'medicine).[3]', 'Data', 'science', 'is', 'multifaceted', 'and', 'can', 'be', 'described', 'as', 'a', 'science,', 'a', 'research', 'paradigm,', 'a', 'research', 'method,', 'a', 'discipline,', 'a', 'workflow,', 'and', 'a', 'profession.[4]\\n\\nData', 'science', 'is', 'a', '\"concept', 'to', 'unify', 'statistics,', 'data', 'analysis,', 'informatics,', 'and', 'their', 'related', 'methods\"', 'to', '\"understand', 'and', 'analyze', 'actual', 'phenomena\"', 'with', 'data.[5]', 'It', 'uses', 'techniques', 'and', 'theories', 'drawn', 'from', 'many', 'fields', 'within', 'the', 'context', 'of', 'mathematics,', 'statistics,', 'computer', 'science,', 'information', 'science,', 'and', 'domain', 'knowledge.[6]', 'However,', 'data', 'science', 'is', 'different', 'from', 'computer', 'science', 'and', 'information', 'science.', 'Turing', 'Award', 'winner', 'Jim', 'Gray', 'imagined', 'data', 'science', 'as', 'a', '\"fourth', 'paradigm\"', 'of', 'science', '(empirical,', 'theoretical,', 'computational,', 'and', 'now', 'data-driven)', 'and', 'asserted', 'that', '\"everything', 'about', 'science', 'is', 'changing', 'because', 'of', 'the', 'impact', 'of', 'information', 'technology\"', 'and', 'the', 'data', 'deluge.[7][8]']\n"
     ]
    }
   ],
   "source": [
    "words=data.split(\" \")\n",
    "print(words)"
   ]
  },
  {
   "cell_type": "code",
   "execution_count": 26,
   "metadata": {},
   "outputs": [
    {
     "name": "stdout",
     "output_type": "stream",
     "text": [
      "187\n"
     ]
    }
   ],
   "source": [
    "print(len(words))"
   ]
  },
  {
   "cell_type": "code",
   "execution_count": null,
   "metadata": {},
   "outputs": [],
   "source": []
  }
 ],
 "metadata": {
  "kernelspec": {
   "display_name": "Python 3",
   "language": "python",
   "name": "python3"
  },
  "language_info": {
   "codemirror_mode": {
    "name": "ipython",
    "version": 3
   },
   "file_extension": ".py",
   "mimetype": "text/x-python",
   "name": "python",
   "nbconvert_exporter": "python",
   "pygments_lexer": "ipython3",
   "version": "3.8.10"
  }
 },
 "nbformat": 4,
 "nbformat_minor": 2
}
