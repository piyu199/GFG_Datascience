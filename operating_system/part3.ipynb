{
 "cells": [
  {
   "cell_type": "code",
   "execution_count": 3,
   "metadata": {},
   "outputs": [],
   "source": [
    "import os\n",
    "from datetime import datetime"
   ]
  },
  {
   "cell_type": "code",
   "execution_count": 10,
   "metadata": {},
   "outputs": [
    {
     "name": "stdout",
     "output_type": "stream",
     "text": [
      "Total time taken to create thee folders:0:00:00.084951\n"
     ]
    }
   ],
   "source": [
    "#how to create bulk directory\n",
    "\n",
    "started_time=datetime.now()\n",
    "for i in range(1,101):\n",
    "    name=f\"Test/Test{i}\"\n",
    "    os.makedirs(name)\n",
    "end_time=datetime.now()\n",
    "print(f\"Total time taken to create thee folders:{end_time-started_time}\")"
   ]
  },
  {
   "cell_type": "code",
   "execution_count": 9,
   "metadata": {},
   "outputs": [],
   "source": [
    "master = \"GFG\"\n",
    "\n",
    "os.mkdir(master)\n",
    "for i in range(1,11):\n",
    "    name=f\"{master}/GFG{i}\"\n",
    "    os.mkdir(name)\n",
    "    for j in range(1,11):\n",
    "        name2=f\"{name}/GFG{j}\"\n",
    "        os.mkdir(name2)"
   ]
  },
  {
   "cell_type": "code",
   "execution_count": null,
   "metadata": {},
   "outputs": [],
   "source": []
  },
  {
   "cell_type": "code",
   "execution_count": null,
   "metadata": {},
   "outputs": [],
   "source": []
  }
 ],
 "metadata": {
  "kernelspec": {
   "display_name": "Python 3",
   "language": "python",
   "name": "python3"
  },
  "language_info": {
   "codemirror_mode": {
    "name": "ipython",
    "version": 3
   },
   "file_extension": ".py",
   "mimetype": "text/x-python",
   "name": "python",
   "nbconvert_exporter": "python",
   "pygments_lexer": "ipython3",
   "version": "3.8.10"
  }
 },
 "nbformat": 4,
 "nbformat_minor": 2
}
