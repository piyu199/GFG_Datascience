{
 "cells": [
  {
   "cell_type": "code",
   "execution_count": 7,
   "metadata": {},
   "outputs": [],
   "source": [
    "import os\n",
    "from datetime import date"
   ]
  },
  {
   "cell_type": "code",
   "execution_count": 8,
   "metadata": {},
   "outputs": [
    {
     "data": {
      "text/plain": [
       "'d:\\\\DataScience_GeeksForGeeks\\\\operating_system'"
      ]
     },
     "execution_count": 8,
     "metadata": {},
     "output_type": "execute_result"
    }
   ],
   "source": [
    "#Bulk Text-file Reading\n",
    "os.getcwd()"
   ]
  },
  {
   "cell_type": "code",
   "execution_count": 9,
   "metadata": {},
   "outputs": [
    {
     "data": {
      "text/plain": [
       "['Test1',\n",
       " 'Test10',\n",
       " 'Test100',\n",
       " 'Test11',\n",
       " 'Test12',\n",
       " 'Test13',\n",
       " 'Test14',\n",
       " 'Test15',\n",
       " 'Test16',\n",
       " 'Test17',\n",
       " 'Test18',\n",
       " 'Test19',\n",
       " 'Test2',\n",
       " 'Test20',\n",
       " 'Test21',\n",
       " 'Test22',\n",
       " 'Test23',\n",
       " 'Test24',\n",
       " 'Test25',\n",
       " 'Test26',\n",
       " 'Test27',\n",
       " 'Test28',\n",
       " 'Test29',\n",
       " 'Test3',\n",
       " 'Test30',\n",
       " 'Test31',\n",
       " 'Test32',\n",
       " 'Test33',\n",
       " 'Test34',\n",
       " 'Test35',\n",
       " 'Test36',\n",
       " 'Test37',\n",
       " 'Test38',\n",
       " 'Test39',\n",
       " 'Test4',\n",
       " 'Test40',\n",
       " 'Test41',\n",
       " 'Test42',\n",
       " 'Test43',\n",
       " 'Test44',\n",
       " 'Test45',\n",
       " 'Test46',\n",
       " 'Test47',\n",
       " 'Test48',\n",
       " 'Test49',\n",
       " 'Test5',\n",
       " 'Test50',\n",
       " 'Test51',\n",
       " 'Test52',\n",
       " 'Test53',\n",
       " 'Test54',\n",
       " 'Test55',\n",
       " 'Test56',\n",
       " 'Test57',\n",
       " 'Test58',\n",
       " 'Test59',\n",
       " 'Test6',\n",
       " 'Test60',\n",
       " 'Test61',\n",
       " 'Test62',\n",
       " 'Test63',\n",
       " 'Test64',\n",
       " 'Test65',\n",
       " 'Test66',\n",
       " 'Test67',\n",
       " 'Test68',\n",
       " 'Test69',\n",
       " 'Test7',\n",
       " 'Test70',\n",
       " 'Test71',\n",
       " 'Test72',\n",
       " 'Test73',\n",
       " 'Test74',\n",
       " 'Test75',\n",
       " 'Test76',\n",
       " 'Test77',\n",
       " 'Test78',\n",
       " 'Test79',\n",
       " 'Test8',\n",
       " 'Test80',\n",
       " 'Test81',\n",
       " 'Test82',\n",
       " 'Test83',\n",
       " 'Test84',\n",
       " 'Test85',\n",
       " 'Test86',\n",
       " 'Test87',\n",
       " 'Test88',\n",
       " 'Test89',\n",
       " 'Test9',\n",
       " 'Test90',\n",
       " 'Test91',\n",
       " 'Test92',\n",
       " 'Test93',\n",
       " 'Test94',\n",
       " 'Test95',\n",
       " 'Test96',\n",
       " 'Test97',\n",
       " 'Test98',\n",
       " 'Test99']"
      ]
     },
     "execution_count": 9,
     "metadata": {},
     "output_type": "execute_result"
    }
   ],
   "source": [
    "os.listdir(\"Test\")"
   ]
  },
  {
   "cell_type": "code",
   "execution_count": 12,
   "metadata": {},
   "outputs": [
    {
     "ename": "TypeError",
     "evalue": "structseq() missing required argument 'sequence' (pos 1)",
     "output_type": "error",
     "traceback": [
      "\u001b[1;31m---------------------------------------------------------------------------\u001b[0m",
      "\u001b[1;31mTypeError\u001b[0m                                 Traceback (most recent call last)",
      "Cell \u001b[1;32mIn[12], line 1\u001b[0m\n\u001b[1;32m----> 1\u001b[0m \u001b[43mos\u001b[49m\u001b[38;5;241;43m.\u001b[39;49m\u001b[43muname_result\u001b[49m\u001b[43m(\u001b[49m\u001b[43m)\u001b[49m\n",
      "\u001b[1;31mTypeError\u001b[0m: structseq() missing required argument 'sequence' (pos 1)"
     ]
    }
   ],
   "source": [
    "os.uname_result()"
   ]
  },
  {
   "cell_type": "code",
   "execution_count": null,
   "metadata": {},
   "outputs": [],
   "source": []
  }
 ],
 "metadata": {
  "kernelspec": {
   "display_name": "Python 3",
   "language": "python",
   "name": "python3"
  },
  "language_info": {
   "codemirror_mode": {
    "name": "ipython",
    "version": 3
   },
   "file_extension": ".py",
   "mimetype": "text/x-python",
   "name": "python",
   "nbconvert_exporter": "python",
   "pygments_lexer": "ipython3",
   "version": "3.8.10"
  }
 },
 "nbformat": 4,
 "nbformat_minor": 2
}
