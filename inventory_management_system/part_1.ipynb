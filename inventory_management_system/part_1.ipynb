{
 "cells": [
  {
   "cell_type": "code",
   "execution_count": 1,
   "metadata": {},
   "outputs": [],
   "source": [
    "\n",
    "fd=open(\"Inventory.txt\",\"w\")\n",
    "fd.close()"
   ]
  },
  {
   "cell_type": "markdown",
   "metadata": {},
   "source": [
    "## Product Details\n",
    "1. Product ID\n",
    "2. Name of Product\n",
    "3. Price of Product\n",
    "4. Quantity of Product\n",
    "5. Category of Product"
   ]
  },
  {
   "cell_type": "code",
   "execution_count": 3,
   "metadata": {},
   "outputs": [
    {
     "name": "stdout",
     "output_type": "stream",
     "text": [
      "1,Perk,10,100\n",
      "2,Dairy Milk,15,500\n",
      "3,Munch,5,80\n",
      "4,Eclaries,4,50\n"
     ]
    }
   ],
   "source": [
    "try:\n",
    "    fd=open(\"Inventory.txt\",\"r\")\n",
    "    inventory_data=fd.read()\n",
    "    print(inventory_data)\n",
    "    fd.close()    \n",
    "except Exception as e:\n",
    "    print(e)"
   ]
  },
  {
   "cell_type": "code",
   "execution_count": 4,
   "metadata": {},
   "outputs": [
    {
     "name": "stdout",
     "output_type": "stream",
     "text": [
      "['1,Perk,10,100', '2,Dairy Milk,15,500', '3,Munch,5,80', '4,Eclaries,4,50']\n"
     ]
    }
   ],
   "source": [
    "txt=inventory_data.split(\"\\n\")\n",
    "print(txt)"
   ]
  },
  {
   "cell_type": "code",
   "execution_count": 5,
   "metadata": {},
   "outputs": [
    {
     "name": "stdout",
     "output_type": "stream",
     "text": [
      " Total No of Products in an Inventory is :4\n"
     ]
    }
   ],
   "source": [
    "##No of Products in an inventory\n",
    "print(f\" Total No of Products in an Inventory is :{len(txt)}\")"
   ]
  }
 ],
 "metadata": {
  "kernelspec": {
   "display_name": "Python 3",
   "language": "python",
   "name": "python3"
  },
  "language_info": {
   "codemirror_mode": {
    "name": "ipython",
    "version": 3
   },
   "file_extension": ".py",
   "mimetype": "text/x-python",
   "name": "python",
   "nbconvert_exporter": "python",
   "pygments_lexer": "ipython3",
   "version": "3.8.10"
  }
 },
 "nbformat": 4,
 "nbformat_minor": 2
}
