{
 "cells": [
  {
   "cell_type": "code",
   "execution_count": 1,
   "metadata": {},
   "outputs": [],
   "source": [
    "fd=open(\"Inventory.txt\",\"r\")\n",
    "products=fd.read().split(\"\\n\")\n",
    "fd.close()"
   ]
  },
  {
   "cell_type": "code",
   "execution_count": 6,
   "metadata": {},
   "outputs": [
    {
     "name": "stdout",
     "output_type": "stream",
     "text": [
      "[['1', 'Perk', '10', '100'], ['2', 'Dairy Milk', '15', '500'], ['3', 'Munch', '5', '80'], ['4', 'Eclaries', '4', '50']]\n"
     ]
    }
   ],
   "source": [
    "single_product=[prod.split(\",\") for prod in products]\n",
    "print(single_product)"
   ]
  },
  {
   "cell_type": "code",
   "execution_count": 13,
   "metadata": {},
   "outputs": [
    {
     "name": "stdout",
     "output_type": "stream",
     "text": [
      "2,Dairy Milk,15,500\n"
     ]
    }
   ],
   "source": [
    "ui_product_id=input(\"Enter the Product ID: \")\n",
    "for i in single_product:\n",
    "    if (i[0]==ui_product_id):\n",
    "        print(\",\".join(i))"
   ]
  },
  {
   "cell_type": "markdown",
   "metadata": {},
   "source": [
    " If user wants to purchase something"
   ]
  },
  {
   "cell_type": "code",
   "execution_count": 27,
   "metadata": {},
   "outputs": [
    {
     "name": "stdout",
     "output_type": "stream",
     "text": [
      "Procduct Name: Dairy Milk\n",
      "Price: 15\n",
      "Quantity: 5\n",
      "You can purchase the product and your total Bills is 75\n"
     ]
    }
   ],
   "source": [
    "ui_product_id=input(\"Enter the Product ID : \")\n",
    "ui_product_quantity=int(input(\"Enter the Product Quantity : \"))\n",
    "for i in single_product:\n",
    "    if (i[0]==ui_product_id):\n",
    "        print(f\"Procduct Name: {i[1]}\")\n",
    "        print(f\"Price: {i[2]}\")\n",
    "        print(f\"Quantity: {ui_product_quantity}\")\n",
    "        if int(i[2]) >= ui_product_quantity:\n",
    "            total_bill=ui_product_quantity*int(i[2])\n",
    "            print(f\"You can purchase the product and your total Bills is {total_bill}\")\n",
    "        else:\n",
    "            print(\"Out of stock\")\n"
   ]
  },
  {
   "cell_type": "code",
   "execution_count": null,
   "metadata": {},
   "outputs": [],
   "source": []
  }
 ],
 "metadata": {
  "kernelspec": {
   "display_name": "Python 3",
   "language": "python",
   "name": "python3"
  },
  "language_info": {
   "codemirror_mode": {
    "name": "ipython",
    "version": 3
   },
   "file_extension": ".py",
   "mimetype": "text/x-python",
   "name": "python",
   "nbconvert_exporter": "python",
   "pygments_lexer": "ipython3",
   "version": "3.8.10"
  }
 },
 "nbformat": 4,
 "nbformat_minor": 2
}
