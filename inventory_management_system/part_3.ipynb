{
 "cells": [
  {
   "cell_type": "code",
   "execution_count": 18,
   "metadata": {},
   "outputs": [],
   "source": [
    "fd=open(\"Inventory.txt\",\"r\")\n",
    "products=fd.read().split(\"\\n\")\n",
    "fd.close()"
   ]
  },
  {
   "cell_type": "code",
   "execution_count": 19,
   "metadata": {},
   "outputs": [
    {
     "data": {
      "text/plain": [
       "['1,Perk,10,98', '2,Dairy Milk,15,500', '3,Munch,5,80', '4,Eclaries,4,50', '']"
      ]
     },
     "execution_count": 19,
     "metadata": {},
     "output_type": "execute_result"
    }
   ],
   "source": [
    "products"
   ]
  },
  {
   "cell_type": "code",
   "execution_count": 20,
   "metadata": {},
   "outputs": [
    {
     "name": "stdout",
     "output_type": "stream",
     "text": [
      "-----------------------------------\n",
      "Product Name :  Perk\n",
      "Price :  10\n",
      "Quantity :  50\n",
      "-----------------------------------\n",
      "Billing Amount :  500\n",
      "-----------------------------------\n"
     ]
    }
   ],
   "source": [
    "ui_product_id=input(\"Enter the Product ID : \")\n",
    "ui_product_quantity=int(input(\"Enter the Product Quantity : \"))\n",
    "updated_product_lst= []\n",
    "for product in products:\n",
    "    prod_details=product.split(\",\")\n",
    "\n",
    "    if (prod_details[0]==ui_product_id):\n",
    "        print(\"-----------------------------------\")\n",
    "        print(\"Product Name : \", prod_details[1])\n",
    "        print(\"Price : \", prod_details[2])\n",
    "        print(\"Quantity : \", ui_product_quantity)\n",
    "        print(\"-----------------------------------\")\n",
    "        print(\"Billing Amount : \", int(ui_product_quantity) * int(prod_details[2]))\n",
    "        print(\"-----------------------------------\")\n",
    "\n",
    "        prod_details[3]=str(int(prod_details[3]) - int(ui_product_quantity))\n",
    "    updated_product_lst.append(prod_details)\n"
   ]
  },
  {
   "cell_type": "code",
   "execution_count": 21,
   "metadata": {},
   "outputs": [
    {
     "name": "stdout",
     "output_type": "stream",
     "text": [
      "1,Perk,10,48\n",
      "\n",
      "2,Dairy Milk,15,500\n",
      "\n",
      "3,Munch,5,80\n",
      "\n",
      "4,Eclaries,4,50\n",
      "\n",
      "\n",
      "\n"
     ]
    }
   ],
   "source": [
    "for i in updated_product_lst:\n",
    "    prod= \",\".join(i) + \"\\n\"\n",
    "    print(prod)"
   ]
  },
  {
   "cell_type": "code",
   "execution_count": 26,
   "metadata": {},
   "outputs": [],
   "source": [
    "fz=open(\"Inventory.txt\",\"w\")\n",
    "for i in updated_product_lst:\n",
    "    prod= \",\".join(i) + \"\\n\"\n",
    "    fz.write(prod)\n",
    "fz.close()"
   ]
  },
  {
   "cell_type": "code",
   "execution_count": 27,
   "metadata": {},
   "outputs": [
    {
     "name": "stdout",
     "output_type": "stream",
     "text": [
      "\n"
     ]
    }
   ],
   "source": [
    "print(product)"
   ]
  },
  {
   "cell_type": "code",
   "execution_count": null,
   "metadata": {},
   "outputs": [],
   "source": []
  }
 ],
 "metadata": {
  "kernelspec": {
   "display_name": "Python 3",
   "language": "python",
   "name": "python3"
  },
  "language_info": {
   "codemirror_mode": {
    "name": "ipython",
    "version": 3
   },
   "file_extension": ".py",
   "mimetype": "text/x-python",
   "name": "python",
   "nbconvert_exporter": "python",
   "pygments_lexer": "ipython3",
   "version": "3.8.10"
  }
 },
 "nbformat": 4,
 "nbformat_minor": 2
}
