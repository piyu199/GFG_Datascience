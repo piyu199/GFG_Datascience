{
 "cells": [
  {
   "cell_type": "code",
   "execution_count": 10,
   "metadata": {},
   "outputs": [],
   "source": [
    "fd=open(\"Inventory.txt\",\"r\")\n",
    "products=fd.read().split(\"\\n\")\n",
    "fd.close()"
   ]
  },
  {
   "cell_type": "code",
   "execution_count": 12,
   "metadata": {},
   "outputs": [
    {
     "data": {
      "text/plain": [
       "['1,Perk,10,10', '2,Dairy Milk,15,500', '3,Munch,5,80', '4,Eclaries,4,50']"
      ]
     },
     "execution_count": 12,
     "metadata": {},
     "output_type": "execute_result"
    }
   ],
   "source": [
    "products"
   ]
  },
  {
   "cell_type": "code",
   "execution_count": 20,
   "metadata": {},
   "outputs": [
    {
     "name": "stdout",
     "output_type": "stream",
     "text": [
      "-----------------------------------\n",
      "Product Name :  Eclaries\n",
      "Price :  4\n",
      "Quantity :  5\n",
      "-----------------------------------\n",
      "Billing Amount :  20\n",
      "-----------------------------------\n"
     ]
    }
   ],
   "source": [
    "import time\n",
    "ui_username=input(\"Enter your Name:\")\n",
    "ui_phone_number=input(\"Enter your Phone Number:\")\n",
    "ui_email_address=input(\"Enter the Email Address:\")\n",
    "ui_product_id=input(\"Enter the Product ID : \")\n",
    "ui_product_quantity=int(input(\"Enter the Product Quantity : \"))\n",
    "\n",
    "\n",
    "updated_product_lst= []\n",
    "for product in products:\n",
    "    prod_details=product.split(\",\")\n",
    "\n",
    "    if (prod_details[0]==ui_product_id):\n",
    "        \n",
    "        if (ui_product_quantity <= int(prod_details[3])):\n",
    "            print(\"-----------------------------------\")\n",
    "            print(\"Product Name : \", prod_details[1])\n",
    "            print(\"Price : \", prod_details[2])\n",
    "            print(\"Quantity : \", ui_product_quantity)\n",
    "            print(\"-----------------------------------\")\n",
    "            print(\"Billing Amount : \", int(ui_product_quantity) * int(prod_details[2]))\n",
    "            print(\"-----------------------------------\")\n",
    "  \n",
    "            prod_details[3]=str(int(prod_details[3]) - int(ui_product_quantity))\n",
    "            fd=open(\"Sales.txt\",\"a\")\n",
    "            sales_details=f\"{ui_username}-{ui_phone_number}-{ui_email_address}-{prod_details[0]}-{ui_product_quantity}-{str(int(ui_product_quantity) * int(prod_details[2]))}-{time.ctime()} \\n\"\n",
    "            fd.write(sales_details)\n",
    "            fd.close()\n",
    "        else:\n",
    "            print(\"Sorry we are not having enough Quantity\")\n",
    "            print(f\"We are having only {prod_details[3]} quantity.\")\n",
    "            print(\"Would you like to purchase it?\")\n",
    "            ch=input(\"Press Yes/No\").lower()\n",
    "            if ch==\"yes\":\n",
    "                print(\"-----------------------------------\")\n",
    "                print(\"Product Name : \", prod_details[1])\n",
    "                print(\"Price : \", prod_details[2])\n",
    "                print(\"Quantity : \", prod_details[3])\n",
    "                print(\"-----------------------------------\")\n",
    "                print(\"Billing Amount : \", int(prod_details[3]) * int(prod_details[2]))\n",
    "                print(\"-----------------------------------\")\n",
    "    \n",
    "                prod_details[3]=str(int(prod_details[3]) - int(prod_details[3]))\n",
    "                fd=open(\"Sales.txt\",\"a\")\n",
    "                sales_details=f\"{ui_username}-{ui_phone_number}-{ui_email_address}-{prod_details[0]}-{prod_details[1]}-{str(int(prod_details[3]) * int(prod_details[2]))}-{time.ctime()} \\n\"\n",
    "                fd.write(sales_details)\n",
    "                fd.close()\n",
    "            else:\n",
    "                print(\"Cool\")\n",
    "    updated_product_lst.append(prod_details)\n",
    "\n",
    "lst=[]\n",
    "for i in updated_product_lst:\n",
    "    prod= i[0] + \",\" + i[1] + \",\" + i[2] + \",\" + i[3] + \"\\n\"\n",
    "    lst.append(prod)\n",
    "\n",
    "lst[-1]=lst[-1][:-1]\n",
    "fd=open(\"Inventory.txt\",\"w\")\n",
    "for i in lst:\n",
    "    fd.write(i)\n",
    "fd.close()"
   ]
  },
  {
   "cell_type": "code",
   "execution_count": 5,
   "metadata": {},
   "outputs": [],
   "source": [
    "lst[-1]=lst[-1][:-1]"
   ]
  },
  {
   "cell_type": "code",
   "execution_count": 17,
   "metadata": {},
   "outputs": [],
   "source": [
    "import time"
   ]
  },
  {
   "cell_type": "code",
   "execution_count": 18,
   "metadata": {},
   "outputs": [
    {
     "data": {
      "text/plain": [
       "'Wed Feb 14 12:28:48 2024'"
      ]
     },
     "execution_count": 18,
     "metadata": {},
     "output_type": "execute_result"
    }
   ],
   "source": [
    "time.ctime()"
   ]
  },
  {
   "cell_type": "code",
   "execution_count": 23,
   "metadata": {},
   "outputs": [
    {
     "name": "stdout",
     "output_type": "stream",
     "text": [
      "1\n",
      "2\n",
      "3\n",
      "4\n"
     ]
    }
   ],
   "source": [
    "fd=open(\"Inventory.txt\",\"r\")\n",
    "# print(type(fd))\n",
    "for i in fd:\n",
    "    print(i[0])"
   ]
  },
  {
   "cell_type": "code",
   "execution_count": null,
   "metadata": {},
   "outputs": [],
   "source": []
  }
 ],
 "metadata": {
  "kernelspec": {
   "display_name": "Python 3",
   "language": "python",
   "name": "python3"
  },
  "language_info": {
   "codemirror_mode": {
    "name": "ipython",
    "version": 3
   },
   "file_extension": ".py",
   "mimetype": "text/x-python",
   "name": "python",
   "nbconvert_exporter": "python",
   "pygments_lexer": "ipython3",
   "version": "3.8.10"
  }
 },
 "nbformat": 4,
 "nbformat_minor": 2
}
